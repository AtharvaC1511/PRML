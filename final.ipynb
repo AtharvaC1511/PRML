{
 "cells": [
  {
   "cell_type": "code",
   "execution_count": 1,
   "metadata": {},
   "outputs": [],
   "source": [
    "import pandas as pd\n",
    "import numpy as np\n",
    "import random"
   ]
  },
  {
   "cell_type": "code",
   "execution_count": 2,
   "metadata": {},
   "outputs": [],
   "source": [
    "train=pd.read_csv('train.csv')\n",
    "test=pd.read_csv('test.csv')\n",
    "songs=pd.read_csv('songs.csv')\n",
    "labels=pd.read_csv('song_labels.csv')\n",
    "save=pd.read_csv('save_for_later.csv')"
   ]
  },
  {
   "cell_type": "code",
   "execution_count": 3,
   "metadata": {},
   "outputs": [
    {
     "data": {
      "text/html": [
       "<div>\n",
       "<style scoped>\n",
       "    .dataframe tbody tr th:only-of-type {\n",
       "        vertical-align: middle;\n",
       "    }\n",
       "\n",
       "    .dataframe tbody tr th {\n",
       "        vertical-align: top;\n",
       "    }\n",
       "\n",
       "    .dataframe thead th {\n",
       "        text-align: right;\n",
       "    }\n",
       "</style>\n",
       "<table border=\"1\" class=\"dataframe\">\n",
       "  <thead>\n",
       "    <tr style=\"text-align: right;\">\n",
       "      <th></th>\n",
       "      <th>customer_id</th>\n",
       "      <th>song_id</th>\n",
       "      <th>score</th>\n",
       "    </tr>\n",
       "  </thead>\n",
       "  <tbody>\n",
       "    <tr>\n",
       "      <th>0</th>\n",
       "      <td>O29219</td>\n",
       "      <td>3459</td>\n",
       "      <td>3</td>\n",
       "    </tr>\n",
       "    <tr>\n",
       "      <th>1</th>\n",
       "      <td>I50343</td>\n",
       "      <td>5326</td>\n",
       "      <td>4</td>\n",
       "    </tr>\n",
       "    <tr>\n",
       "      <th>2</th>\n",
       "      <td>N42888</td>\n",
       "      <td>236</td>\n",
       "      <td>5</td>\n",
       "    </tr>\n",
       "    <tr>\n",
       "      <th>3</th>\n",
       "      <td>F5740</td>\n",
       "      <td>724</td>\n",
       "      <td>4</td>\n",
       "    </tr>\n",
       "    <tr>\n",
       "      <th>4</th>\n",
       "      <td>K4115</td>\n",
       "      <td>8452</td>\n",
       "      <td>5</td>\n",
       "    </tr>\n",
       "  </tbody>\n",
       "</table>\n",
       "</div>"
      ],
      "text/plain": [
       "  customer_id  song_id  score\n",
       "0      O29219     3459      3\n",
       "1      I50343     5326      4\n",
       "2      N42888      236      5\n",
       "3       F5740      724      4\n",
       "4       K4115     8452      5"
      ]
     },
     "execution_count": 3,
     "metadata": {},
     "output_type": "execute_result"
    }
   ],
   "source": [
    "train.head()\n",
    "#customer_id: Nominal Categorical"
   ]
  },
  {
   "cell_type": "code",
   "execution_count": 4,
   "metadata": {},
   "outputs": [
    {
     "data": {
      "text/html": [
       "<div>\n",
       "<style scoped>\n",
       "    .dataframe tbody tr th:only-of-type {\n",
       "        vertical-align: middle;\n",
       "    }\n",
       "\n",
       "    .dataframe tbody tr th {\n",
       "        vertical-align: top;\n",
       "    }\n",
       "\n",
       "    .dataframe thead th {\n",
       "        text-align: right;\n",
       "    }\n",
       "</style>\n",
       "<table border=\"1\" class=\"dataframe\">\n",
       "  <thead>\n",
       "    <tr style=\"text-align: right;\">\n",
       "      <th></th>\n",
       "      <th>customer_id</th>\n",
       "      <th>song_id</th>\n",
       "    </tr>\n",
       "  </thead>\n",
       "  <tbody>\n",
       "    <tr>\n",
       "      <th>0</th>\n",
       "      <td>J24644</td>\n",
       "      <td>5304</td>\n",
       "    </tr>\n",
       "    <tr>\n",
       "      <th>1</th>\n",
       "      <td>G29701</td>\n",
       "      <td>123</td>\n",
       "    </tr>\n",
       "    <tr>\n",
       "      <th>2</th>\n",
       "      <td>M29977</td>\n",
       "      <td>11</td>\n",
       "    </tr>\n",
       "    <tr>\n",
       "      <th>3</th>\n",
       "      <td>H50752</td>\n",
       "      <td>1445</td>\n",
       "    </tr>\n",
       "    <tr>\n",
       "      <th>4</th>\n",
       "      <td>J42394</td>\n",
       "      <td>271</td>\n",
       "    </tr>\n",
       "  </tbody>\n",
       "</table>\n",
       "</div>"
      ],
      "text/plain": [
       "  customer_id  song_id\n",
       "0      J24644     5304\n",
       "1      G29701      123\n",
       "2      M29977       11\n",
       "3      H50752     1445\n",
       "4      J42394      271"
      ]
     },
     "execution_count": 4,
     "metadata": {},
     "output_type": "execute_result"
    }
   ],
   "source": [
    "test.head()"
   ]
  },
  {
   "cell_type": "code",
   "execution_count": 5,
   "metadata": {},
   "outputs": [
    {
     "data": {
      "text/html": [
       "<div>\n",
       "<style scoped>\n",
       "    .dataframe tbody tr th:only-of-type {\n",
       "        vertical-align: middle;\n",
       "    }\n",
       "\n",
       "    .dataframe tbody tr th {\n",
       "        vertical-align: top;\n",
       "    }\n",
       "\n",
       "    .dataframe thead th {\n",
       "        text-align: right;\n",
       "    }\n",
       "</style>\n",
       "<table border=\"1\" class=\"dataframe\">\n",
       "  <thead>\n",
       "    <tr style=\"text-align: right;\">\n",
       "      <th></th>\n",
       "      <th>song_id</th>\n",
       "      <th>platform_id</th>\n",
       "      <th>released_year</th>\n",
       "      <th>language</th>\n",
       "      <th>number_of_comments</th>\n",
       "    </tr>\n",
       "  </thead>\n",
       "  <tbody>\n",
       "    <tr>\n",
       "      <th>0</th>\n",
       "      <td>8328</td>\n",
       "      <td>T17332564</td>\n",
       "      <td>2013.0</td>\n",
       "      <td>eng</td>\n",
       "      <td>1936</td>\n",
       "    </tr>\n",
       "    <tr>\n",
       "      <th>1</th>\n",
       "      <td>8591</td>\n",
       "      <td>T773514</td>\n",
       "      <td>1925.0</td>\n",
       "      <td>eng</td>\n",
       "      <td>420</td>\n",
       "    </tr>\n",
       "    <tr>\n",
       "      <th>2</th>\n",
       "      <td>718</td>\n",
       "      <td>U10975</td>\n",
       "      <td>1929.0</td>\n",
       "      <td>eng</td>\n",
       "      <td>5485</td>\n",
       "    </tr>\n",
       "    <tr>\n",
       "      <th>3</th>\n",
       "      <td>6593</td>\n",
       "      <td>Y12839</td>\n",
       "      <td>1968.0</td>\n",
       "      <td>NaN</td>\n",
       "      <td>200</td>\n",
       "    </tr>\n",
       "    <tr>\n",
       "      <th>4</th>\n",
       "      <td>743</td>\n",
       "      <td>Q28881</td>\n",
       "      <td>2002.0</td>\n",
       "      <td>en-US</td>\n",
       "      <td>10411</td>\n",
       "    </tr>\n",
       "  </tbody>\n",
       "</table>\n",
       "</div>"
      ],
      "text/plain": [
       "   song_id platform_id  released_year language  number_of_comments\n",
       "0     8328   T17332564         2013.0      eng                1936\n",
       "1     8591     T773514         1925.0      eng                 420\n",
       "2      718      U10975         1929.0      eng                5485\n",
       "3     6593      Y12839         1968.0      NaN                 200\n",
       "4      743      Q28881         2002.0    en-US               10411"
      ]
     },
     "execution_count": 5,
     "metadata": {},
     "output_type": "execute_result"
    }
   ],
   "source": [
    "songs.head()"
   ]
  },
  {
   "cell_type": "code",
   "execution_count": 6,
   "metadata": {},
   "outputs": [
    {
     "data": {
      "text/html": [
       "<div>\n",
       "<style scoped>\n",
       "    .dataframe tbody tr th:only-of-type {\n",
       "        vertical-align: middle;\n",
       "    }\n",
       "\n",
       "    .dataframe tbody tr th {\n",
       "        vertical-align: top;\n",
       "    }\n",
       "\n",
       "    .dataframe thead th {\n",
       "        text-align: right;\n",
       "    }\n",
       "</style>\n",
       "<table border=\"1\" class=\"dataframe\">\n",
       "  <thead>\n",
       "    <tr style=\"text-align: right;\">\n",
       "      <th></th>\n",
       "      <th>platform_id</th>\n",
       "      <th>label_id</th>\n",
       "      <th>count</th>\n",
       "    </tr>\n",
       "  </thead>\n",
       "  <tbody>\n",
       "    <tr>\n",
       "      <th>0</th>\n",
       "      <td>Q207781</td>\n",
       "      <td>10304</td>\n",
       "      <td>6</td>\n",
       "    </tr>\n",
       "    <tr>\n",
       "      <th>1</th>\n",
       "      <td>S961833</td>\n",
       "      <td>29011</td>\n",
       "      <td>15</td>\n",
       "    </tr>\n",
       "    <tr>\n",
       "      <th>2</th>\n",
       "      <td>X6718608</td>\n",
       "      <td>25148</td>\n",
       "      <td>29</td>\n",
       "    </tr>\n",
       "    <tr>\n",
       "      <th>3</th>\n",
       "      <td>Q16134551</td>\n",
       "      <td>8717</td>\n",
       "      <td>774</td>\n",
       "    </tr>\n",
       "    <tr>\n",
       "      <th>4</th>\n",
       "      <td>V7126</td>\n",
       "      <td>15169</td>\n",
       "      <td>120</td>\n",
       "    </tr>\n",
       "  </tbody>\n",
       "</table>\n",
       "</div>"
      ],
      "text/plain": [
       "  platform_id  label_id  count\n",
       "0     Q207781     10304      6\n",
       "1     S961833     29011     15\n",
       "2    X6718608     25148     29\n",
       "3   Q16134551      8717    774\n",
       "4       V7126     15169    120"
      ]
     },
     "execution_count": 6,
     "metadata": {},
     "output_type": "execute_result"
    }
   ],
   "source": [
    "labels.head()"
   ]
  },
  {
   "cell_type": "code",
   "execution_count": 7,
   "metadata": {},
   "outputs": [
    {
     "data": {
      "text/html": [
       "<div>\n",
       "<style scoped>\n",
       "    .dataframe tbody tr th:only-of-type {\n",
       "        vertical-align: middle;\n",
       "    }\n",
       "\n",
       "    .dataframe tbody tr th {\n",
       "        vertical-align: top;\n",
       "    }\n",
       "\n",
       "    .dataframe thead th {\n",
       "        text-align: right;\n",
       "    }\n",
       "</style>\n",
       "<table border=\"1\" class=\"dataframe\">\n",
       "  <thead>\n",
       "    <tr style=\"text-align: right;\">\n",
       "      <th></th>\n",
       "      <th>customer_id</th>\n",
       "      <th>song_id</th>\n",
       "    </tr>\n",
       "  </thead>\n",
       "  <tbody>\n",
       "    <tr>\n",
       "      <th>0</th>\n",
       "      <td>F22180</td>\n",
       "      <td>1140</td>\n",
       "    </tr>\n",
       "    <tr>\n",
       "      <th>1</th>\n",
       "      <td>N34498</td>\n",
       "      <td>1523</td>\n",
       "    </tr>\n",
       "    <tr>\n",
       "      <th>2</th>\n",
       "      <td>K46875</td>\n",
       "      <td>6918</td>\n",
       "    </tr>\n",
       "    <tr>\n",
       "      <th>3</th>\n",
       "      <td>L50176</td>\n",
       "      <td>5828</td>\n",
       "    </tr>\n",
       "    <tr>\n",
       "      <th>4</th>\n",
       "      <td>F13830</td>\n",
       "      <td>3039</td>\n",
       "    </tr>\n",
       "  </tbody>\n",
       "</table>\n",
       "</div>"
      ],
      "text/plain": [
       "  customer_id  song_id\n",
       "0      F22180     1140\n",
       "1      N34498     1523\n",
       "2      K46875     6918\n",
       "3      L50176     5828\n",
       "4      F13830     3039"
      ]
     },
     "execution_count": 7,
     "metadata": {},
     "output_type": "execute_result"
    }
   ],
   "source": [
    "save.head()"
   ]
  },
  {
   "cell_type": "code",
   "execution_count": 8,
   "metadata": {},
   "outputs": [
    {
     "data": {
      "text/plain": [
       "array([3, 4, 5, 2, 1])"
      ]
     },
     "execution_count": 8,
     "metadata": {},
     "output_type": "execute_result"
    }
   ],
   "source": [
    "train['score'].unique()  #Likert scale: Ordinal Categorical variable"
   ]
  },
  {
   "cell_type": "code",
   "execution_count": 9,
   "metadata": {},
   "outputs": [
    {
     "data": {
      "text/plain": [
       "(710109, 670681, 9981, 999912, 238880)"
      ]
     },
     "execution_count": 9,
     "metadata": {},
     "output_type": "execute_result"
    }
   ],
   "source": [
    "len(train),len(test),len(songs),len(labels),len(save)"
   ]
  },
  {
   "cell_type": "code",
   "execution_count": 10,
   "metadata": {},
   "outputs": [
    {
     "name": "stdout",
     "output_type": "stream",
     "text": [
      "10000 10000 9981 9794\n"
     ]
    }
   ],
   "source": [
    "print(len(train['song_id'].unique()),len(test['song_id'].unique()),len(songs['song_id'].unique()),len(save['song_id'].unique()))"
   ]
  },
  {
   "cell_type": "code",
   "execution_count": 11,
   "metadata": {},
   "outputs": [
    {
     "name": "stdout",
     "output_type": "stream",
     "text": [
      "14053 14053 12799\n"
     ]
    }
   ],
   "source": [
    "print(len(train['customer_id'].unique()),len(test['customer_id'].unique()),len(save['customer_id'].unique()))"
   ]
  },
  {
   "cell_type": "code",
   "execution_count": 12,
   "metadata": {},
   "outputs": [
    {
     "name": "stdout",
     "output_type": "stream",
     "text": [
      "\n"
     ]
    }
   ],
   "source": [
    "print()"
   ]
  },
  {
   "cell_type": "code",
   "execution_count": 13,
   "metadata": {},
   "outputs": [
    {
     "data": {
      "text/plain": [
       "array(['eng', nan, 'en-US', 'en-GB', 'en-CA', 'por', 'ger', 'rus', 'fre',\n",
       "       'ara', 'ind', 'jpn', 'dan', 'nor', 'per', 'spa', 'pol', 'en',\n",
       "       'fil', 'rum', 'ita', 'vie', 'tur', 'swe', 'mul', 'nl'],\n",
       "      dtype=object)"
      ]
     },
     "execution_count": 13,
     "metadata": {},
     "output_type": "execute_result"
    }
   ],
   "source": [
    "songs['language'].unique()"
   ]
  },
  {
   "cell_type": "code",
   "execution_count": 14,
   "metadata": {},
   "outputs": [
    {
     "name": "stdout",
     "output_type": "stream",
     "text": [
      "False\n"
     ]
    }
   ],
   "source": [
    "#train['customer_id'][type(train['customer_id'])==str]\n",
    "print(train['customer_id'].dtype==str)"
   ]
  },
  {
   "cell_type": "code",
   "execution_count": 15,
   "metadata": {},
   "outputs": [
    {
     "name": "stdout",
     "output_type": "stream",
     "text": [
      "True\n",
      "True\n",
      "10000\n"
     ]
    }
   ],
   "source": [
    "print(len(songs)==len(songs['song_id'].unique()))\n",
    "print(len(songs)==len(songs['platform_id'].unique()))\n",
    "print(len(labels['platform_id'].unique()))\n",
    "\n",
    "#This shows that 'songs' has only one entry per song. There are 9981 entries in this df, which is very close\n",
    "#to total number of distinct songs, 10000\n",
    "#Also, this shows that the platform_id for each song is unique as well"
   ]
  },
  {
   "cell_type": "code",
   "execution_count": 16,
   "metadata": {},
   "outputs": [],
   "source": [
    "def checkdtyp(ser):\n",
    "    count=0\n",
    "    for i in range(len(ser)):\n",
    "        comp=ser[0]\n",
    "        if type(ser[i])!=type(comp):\n",
    "            count+=1\n",
    "    if count>0:\n",
    "        print(count)\n",
    "    return count==0"
   ]
  },
  {
   "cell_type": "code",
   "execution_count": 17,
   "metadata": {},
   "outputs": [
    {
     "name": "stdout",
     "output_type": "stream",
     "text": [
      "True True True\n"
     ]
    }
   ],
   "source": [
    "print(checkdtyp(train['customer_id']),checkdtyp(train['song_id']),checkdtyp(train['score']))"
   ]
  },
  {
   "cell_type": "code",
   "execution_count": 18,
   "metadata": {},
   "outputs": [
    {
     "name": "stdout",
     "output_type": "stream",
     "text": [
      "True True\n"
     ]
    }
   ],
   "source": [
    "print(checkdtyp(test['customer_id']),checkdtyp(test['song_id']))"
   ]
  },
  {
   "cell_type": "code",
   "execution_count": 19,
   "metadata": {},
   "outputs": [
    {
     "name": "stdout",
     "output_type": "stream",
     "text": [
      "1076\n",
      "True True True False True\n"
     ]
    }
   ],
   "source": [
    "print(checkdtyp(songs['song_id']),checkdtyp(songs['platform_id']),checkdtyp(songs['released_year']),checkdtyp(songs['language']),checkdtyp(songs['number_of_comments']))"
   ]
  },
  {
   "cell_type": "code",
   "execution_count": 20,
   "metadata": {},
   "outputs": [
    {
     "name": "stdout",
     "output_type": "stream",
     "text": [
      "True True True\n"
     ]
    }
   ],
   "source": [
    "print(checkdtyp(labels['platform_id']),checkdtyp(labels['label_id']),checkdtyp(labels['count']))"
   ]
  },
  {
   "cell_type": "code",
   "execution_count": 21,
   "metadata": {},
   "outputs": [
    {
     "name": "stdout",
     "output_type": "stream",
     "text": [
      "True True\n"
     ]
    }
   ],
   "source": [
    "print(checkdtyp(save['customer_id']),checkdtyp(save['song_id']))"
   ]
  },
  {
   "cell_type": "code",
   "execution_count": 22,
   "metadata": {},
   "outputs": [
    {
     "name": "stdout",
     "output_type": "stream",
     "text": [
      "True    710109\n",
      "Name: song_id, dtype: int64\n",
      "True    9981\n",
      "Name: song_id, dtype: int64\n",
      "True    238880\n",
      "Name: song_id, dtype: int64\n",
      "True    710109\n",
      "Name: customer_id, dtype: int64\n",
      "True    238880\n",
      "Name: customer_id, dtype: int64\n",
      "True     998012\n",
      "False      1900\n",
      "Name: platform_id, dtype: int64\n",
      "True    9981\n",
      "Name: platform_id, dtype: int64\n"
     ]
    }
   ],
   "source": [
    "print(train['song_id'].isin(list(test['song_id'])).value_counts())\n",
    "print(songs['song_id'].isin(list(train['song_id'])).value_counts())\n",
    "print(save['song_id'].isin(list(train['song_id'])).value_counts())\n",
    "print(train['customer_id'].isin(list(test['customer_id'])).value_counts())\n",
    "print(save['customer_id'].isin(list(train['customer_id'])).value_counts())\n",
    "print(labels['platform_id'].isin(list(songs['platform_id'])).value_counts())\n",
    "print(songs['platform_id'].isin(list(labels['platform_id'])).value_counts())"
   ]
  },
  {
   "cell_type": "code",
   "execution_count": 23,
   "metadata": {},
   "outputs": [
    {
     "name": "stdout",
     "output_type": "stream",
     "text": [
      "-1750.0 3 -1\n"
     ]
    }
   ],
   "source": [
    "print(songs['released_year'].min(),songs['number_of_comments'].min(),labels['count'].min())"
   ]
  },
  {
   "cell_type": "code",
   "execution_count": 24,
   "metadata": {},
   "outputs": [
    {
     "data": {
      "text/plain": [
       "-500.0     3\n",
       "-750.0     2\n",
       "-458.0     2\n",
       "-385.0     2\n",
       "-400.0     2\n",
       "-350.0     2\n",
       "-411.0     2\n",
       " 119.0     1\n",
       " 800.0     1\n",
       " 975.0     1\n",
       "-330.0     1\n",
       "-560.0     1\n",
       "-335.0     1\n",
       "-401.0     1\n",
       "-390.0     1\n",
       "-430.0     1\n",
       " 397.0     1\n",
       " 609.0     1\n",
       "-17.0      1\n",
       "-720.0     1\n",
       "-380.0     1\n",
       " 8.0       1\n",
       " 180.0     1\n",
       "-300.0     1\n",
       "-476.0     1\n",
       "-1750.0    1\n",
       "-431.0     1\n",
       "-440.0     1\n",
       "-441.0     1\n",
       "Name: released_year, dtype: int64"
      ]
     },
     "execution_count": 24,
     "metadata": {},
     "output_type": "execute_result"
    }
   ],
   "source": [
    "songs['released_year'][songs['released_year']<1000].value_counts()"
   ]
  },
  {
   "cell_type": "code",
   "execution_count": 25,
   "metadata": {},
   "outputs": [
    {
     "data": {
      "text/plain": [
       " 4    50938\n",
       " 5    50512\n",
       " 6    47258\n",
       " 3    44449\n",
       " 7    43082\n",
       " 8    38884\n",
       " 9    35694\n",
       " 2    28674\n",
       " 1    10338\n",
       "-1        6\n",
       "Name: count, dtype: int64"
      ]
     },
     "execution_count": 25,
     "metadata": {},
     "output_type": "execute_result"
    }
   ],
   "source": [
    "labels['count'][labels['count']<10].value_counts()"
   ]
  },
  {
   "cell_type": "code",
   "execution_count": 26,
   "metadata": {},
   "outputs": [
    {
     "name": "stdout",
     "output_type": "stream",
     "text": [
      "eng      6330\n",
      "en-US    2070\n",
      "en-GB     257\n",
      "ara        64\n",
      "en-CA      58\n",
      "fre        25\n",
      "ind        21\n",
      "spa        20\n",
      "ger        13\n",
      "per         7\n",
      "jpn         7\n",
      "por         6\n",
      "pol         6\n",
      "en          4\n",
      "dan         3\n",
      "nor         3\n",
      "ita         2\n",
      "fil         2\n",
      "vie         1\n",
      "tur         1\n",
      "swe         1\n",
      "nl          1\n",
      "mul         1\n",
      "rum         1\n",
      "rus         1\n",
      "Name: language, dtype: int64\n",
      "9981\n"
     ]
    }
   ],
   "source": [
    "print(songs['language'].value_counts())\n",
    "print(len(songs))"
   ]
  },
  {
   "cell_type": "code",
   "execution_count": 27,
   "metadata": {},
   "outputs": [
    {
     "data": {
      "text/plain": [
       "1076"
      ]
     },
     "execution_count": 27,
     "metadata": {},
     "output_type": "execute_result"
    }
   ],
   "source": [
    "songs['language'].isna().sum()"
   ]
  },
  {
   "cell_type": "code",
   "execution_count": 28,
   "metadata": {},
   "outputs": [
    {
     "name": "stdout",
     "output_type": "stream",
     "text": [
      "True    1076\n",
      "Name: song_id, dtype: int64\n",
      "True    8905\n",
      "Name: song_id, dtype: int64\n"
     ]
    }
   ],
   "source": [
    "print(songs['song_id'][songs['language'].isna()].isin(list(train['song_id'])).value_counts())\n",
    "print(songs['song_id'][songs['language'].isna()==False].isin(list(train['song_id'])).value_counts())\n",
    "\n",
    "#All songs in 'songs' are part of the train and test datasets"
   ]
  },
  {
   "cell_type": "code",
   "execution_count": 29,
   "metadata": {},
   "outputs": [
    {
     "data": {
      "text/plain": [
       "True    6\n",
       "Name: platform_id, dtype: int64"
      ]
     },
     "execution_count": 29,
     "metadata": {},
     "output_type": "execute_result"
    }
   ],
   "source": [
    "labels['platform_id'][labels['count']<1].isin(list(songs['platform_id'])).value_counts() #Drop these negative values as they\n",
    "#don't make sense"
   ]
  },
  {
   "cell_type": "code",
   "execution_count": 30,
   "metadata": {},
   "outputs": [],
   "source": [
    "#correcting language by random assignment\n",
    "langlist=list(songs['language'][songs['language'].isna()==False])\n",
    "songsn=songs.copy()\n",
    "random.seed(202)\n",
    "for i in songs['language'][songs['language'].isna()].index:\n",
    "    songsn.loc[i,'language']=langlist[random.randint(0,len(langlist)-1)]"
   ]
  },
  {
   "cell_type": "code",
   "execution_count": 31,
   "metadata": {},
   "outputs": [
    {
     "data": {
      "text/plain": [
       "False    9981\n",
       "Name: language, dtype: int64"
      ]
     },
     "execution_count": 31,
     "metadata": {},
     "output_type": "execute_result"
    }
   ],
   "source": [
    "songsn['language'].isna().value_counts()"
   ]
  },
  {
   "cell_type": "code",
   "execution_count": 32,
   "metadata": {},
   "outputs": [
    {
     "name": "stdout",
     "output_type": "stream",
     "text": [
      "eng      729\n",
      "en-US    277\n",
      "en-GB     48\n",
      "ara        8\n",
      "en-CA      6\n",
      "fre        1\n",
      "dan        1\n",
      "spa        1\n",
      "nl         1\n",
      "ind        1\n",
      "vie        1\n",
      "ger        1\n",
      "nor        1\n",
      "Name: language, dtype: int64\n",
      "eng      6330\n",
      "en-US    2070\n",
      "en-GB     257\n",
      "ara        64\n",
      "en-CA      58\n",
      "fre        25\n",
      "ind        21\n",
      "spa        20\n",
      "ger        13\n",
      "per         7\n",
      "jpn         7\n",
      "por         6\n",
      "pol         6\n",
      "en          4\n",
      "dan         3\n",
      "nor         3\n",
      "ita         2\n",
      "fil         2\n",
      "vie         1\n",
      "tur         1\n",
      "swe         1\n",
      "nl          1\n",
      "mul         1\n",
      "rum         1\n",
      "rus         1\n",
      "Name: language, dtype: int64\n"
     ]
    }
   ],
   "source": [
    "print(songsn['language'][songs['language'].isna()].value_counts())\n",
    "print(songs['language'][songs['language'].isna()==False].value_counts())"
   ]
  },
  {
   "cell_type": "code",
   "execution_count": 33,
   "metadata": {},
   "outputs": [
    {
     "name": "stdout",
     "output_type": "stream",
     "text": [
      "999912 999906\n"
     ]
    }
   ],
   "source": [
    "labelsn=labels[labels['count']>0]\n",
    "print(len(labels),len(labelsn))"
   ]
  },
  {
   "cell_type": "code",
   "execution_count": 34,
   "metadata": {},
   "outputs": [
    {
     "name": "stdout",
     "output_type": "stream",
     "text": [
      "J15604    98\n",
      "F6630     98\n",
      "N9668     98\n",
      "I24143    98\n",
      "O10509    97\n",
      "          ..\n",
      "F38280     6\n",
      "N50918     6\n",
      "O34099     6\n",
      "K43675     6\n",
      "F34590     5\n",
      "Name: customer_id, Length: 14053, dtype: int64\n",
      "M38457    117\n",
      "O28259    114\n",
      "L38076    110\n",
      "K46555    107\n",
      "F46000    107\n",
      "         ... \n",
      "H29242      1\n",
      "H51742      1\n",
      "J46904      1\n",
      "F11180      1\n",
      "L29656      1\n",
      "Name: customer_id, Length: 12799, dtype: int64\n"
     ]
    }
   ],
   "source": [
    "print(train['customer_id'].value_counts(sort=True))\n",
    "print(save['customer_id'].value_counts(sort=True))"
   ]
  },
  {
   "cell_type": "code",
   "execution_count": 35,
   "metadata": {},
   "outputs": [
    {
     "name": "stdout",
     "output_type": "stream",
     "text": [
      "999906\n",
      "186\n",
      "544561\n",
      "544561\n",
      "10000\n"
     ]
    }
   ],
   "source": [
    "print(len(labelsn))\n",
    "abc=labelsn['label_id'].value_counts(sort=True)\n",
    "abc=abc[abc>1000]\n",
    "print(len(abc))\n",
    "print(len(labelsn[labelsn['label_id'].isin(list(abc.keys()))]))\n",
    "labelsn=labelsn[labelsn['label_id'].isin(list(abc.keys()))]\n",
    "print(len(labelsn))\n",
    "print(len(labelsn[labelsn['label_id'].isin(list(abc.keys()))]['platform_id'].unique()))"
   ]
  },
  {
   "cell_type": "code",
   "execution_count": 36,
   "metadata": {},
   "outputs": [
    {
     "name": "stdout",
     "output_type": "stream",
     "text": [
      "             label_id  count\n",
      "platform_id                 \n",
      "P10             15169      3\n"
     ]
    }
   ],
   "source": [
    "abc=labelsn.set_index('platform_id')\n",
    "abc.head()\n",
    "print(abc.loc['P10'][abc.loc['P10']['label_id']==15169])"
   ]
  },
  {
   "cell_type": "code",
   "execution_count": 37,
   "metadata": {},
   "outputs": [
    {
     "name": "stdout",
     "output_type": "stream",
     "text": [
      "              DF\n",
      "29011   165139.0\n",
      "25148   106238.0\n",
      "8717   7507958.0\n",
      "15169   184735.0\n",
      "1540     68941.0\n",
      "...          ...\n",
      "17124   118799.0\n",
      "21274    22590.0\n",
      "20957    20852.0\n",
      "1542     28004.0\n",
      "26842    37143.0\n",
      "\n",
      "[186 rows x 1 columns]\n",
      "             DF\n",
      "29011  7.065261\n",
      "25148  7.506367\n",
      "8717   3.248330\n",
      "15169  6.953126\n",
      "1540   7.938797\n",
      "...         ...\n",
      "17124  7.394616\n",
      "21274  9.054541\n",
      "20957  9.134599\n",
      "1542   8.839701\n",
      "26842  8.557273\n",
      "\n",
      "[186 rows x 1 columns]\n",
      "             29011     25148     8717      15169     1540      6828   \\\n",
      "P10       0.000000  0.000000  0.238243  0.068069  0.000000  0.095548   \n",
      "P10090    0.000000  0.000000  0.199239  0.090564  0.000000  0.000000   \n",
      "P102030   0.000000  0.000000  0.291090  0.076366  0.000000  0.000000   \n",
      "P10210    0.000000  0.111243  0.148236  0.137661  0.000000  0.000000   \n",
      "P1025250  0.000000  0.000000  0.245321  0.112127  0.000000  0.093119   \n",
      "...            ...       ...       ...       ...       ...       ...   \n",
      "Y9917879  0.000000  0.087144  0.228467  0.000000  0.097233  0.000000   \n",
      "Y99219    0.000000  0.000000  0.224021  0.100097  0.000000  0.000000   \n",
      "Y99329    0.000000  0.000000  0.226986  0.086334  0.000000  0.000000   \n",
      "Y9975679  0.099786  0.124787  0.188691  0.109318  0.108392  0.000000   \n",
      "Y9975779  0.000000  0.076507  0.281745  0.000000  0.137398  0.000000   \n",
      "\n",
      "             25765     27199     25147     24996  ...  8533      7457   \\\n",
      "P10       0.000000  0.159978  0.000000  0.000000  ...    0.0  0.113061   \n",
      "P10090    0.000000  0.150941  0.000000  0.000000  ...    0.0  0.000000   \n",
      "P102030   0.000000  0.000000  0.000000  0.000000  ...    0.0  0.189847   \n",
      "P10210    0.124871  0.000000  0.115989  0.000000  ...    0.0  0.000000   \n",
      "P1025250  0.000000  0.000000  0.088858  0.000000  ...    0.0  0.000000   \n",
      "...            ...       ...       ...       ...  ...    ...       ...   \n",
      "Y9917879  0.000000  0.154541  0.087144  0.000000  ...    0.0  0.000000   \n",
      "Y99219    0.000000  0.143275  0.000000  0.000000  ...    0.0  0.077890   \n",
      "Y99329    0.000000  0.000000  0.000000  0.000000  ...    0.0  0.251876   \n",
      "Y9975679  0.000000  0.162165  0.111090  0.085951  ...    0.0  0.000000   \n",
      "Y9975779  0.000000  0.167630  0.109457  0.000000  ...    0.0  0.000000   \n",
      "\n",
      "             1128   1010      5751      17124     21274  20957     1542   \\\n",
      "P10       0.079026    0.0  0.068069  0.095548  0.000000    0.0  0.068069   \n",
      "P10090    0.000000    0.0  0.000000  0.000000  0.000000    0.0  0.000000   \n",
      "P102030   0.000000    0.0  0.000000  0.000000  0.000000    0.0  0.000000   \n",
      "P10210    0.124871    0.0  0.149621  0.000000  0.000000    0.0  0.000000   \n",
      "P1025250  0.000000    0.0  0.000000  0.140159  0.000000    0.0  0.000000   \n",
      "...            ...    ...       ...       ...       ...    ...       ...   \n",
      "Y9917879  0.000000    0.0  0.000000  0.137887  0.000000    0.0  0.101364   \n",
      "Y99219    0.000000    0.0  0.000000  0.000000  0.000000    0.0  0.000000   \n",
      "Y99329    0.000000    0.0  0.156859  0.000000  0.000000    0.0  0.000000   \n",
      "Y9975679  0.000000    0.0  0.000000  0.000000  0.089602    0.0  0.081811   \n",
      "Y9975779  0.000000    0.0  0.000000  0.000000  0.000000    0.0  0.076507   \n",
      "\n",
      "             26842  \n",
      "P10       0.000000  \n",
      "P10090    0.123393  \n",
      "P102030   0.000000  \n",
      "P10210    0.000000  \n",
      "P1025250  0.000000  \n",
      "...            ...  \n",
      "Y9917879  0.077055  \n",
      "Y99219    0.127999  \n",
      "Y99329    0.000000  \n",
      "Y9975679  0.000000  \n",
      "Y9975779  0.000000  \n",
      "\n",
      "[10000 rows x 186 columns]\n"
     ]
    }
   ],
   "source": [
    "label_vector=pd.DataFrame(columns=np.unique(abc.index.values),index=list(abc['label_id'].unique()))\n",
    "ab=labelsn.set_index('label_id')\n",
    "#print(ab)\n",
    "#print(label_vector.loc[10304][list(ab.loc[10304]['platform_id'])])\n",
    "#print(pd.DataFrame(list(ab.loc[10304]['count']))[0])\n",
    "\n",
    "df=pd.DataFrame(np.zeros(186),index=list(abc['label_id'].unique()),columns=['DF'])\n",
    "\n",
    "for i in np.unique(ab.index.values):\n",
    "    label_vector.loc[i][list(ab.loc[i]['platform_id'])]=list(np.log(ab.loc[i]['count']+1))\n",
    "    df.loc[i]=ab.loc[i]['count'].sum()\n",
    "label_vector=label_vector.fillna(0)\n",
    "#print(label_vector.loc[10304].sum())\n",
    "#\n",
    "print(df)\n",
    "idf=1/(df/df.sum())\n",
    "idf=np.log(idf)\n",
    "print(idf)\n",
    "label_vector=label_vector.T\n",
    "\n",
    "def normalise(row):\n",
    "    row=row/np.sqrt(row.mul(row,axis=0).sum())\n",
    "    \n",
    "    return (row)\n",
    "    \n",
    "label_vector=label_vector.apply(normalise,axis=1)\n",
    "print(label_vector)\n"
   ]
  },
  {
   "cell_type": "code",
   "execution_count": 38,
   "metadata": {},
   "outputs": [
    {
     "name": "stdout",
     "output_type": "stream",
     "text": [
      "        customer_id  score\n",
      "song_id                   \n",
      "1140         F22180      4\n",
      "1523         N34498      4\n",
      "6918         K46875      4\n",
      "5828         L50176      4\n",
      "3039         F13830      4\n",
      "...             ...    ...\n",
      "5662         J52814      4\n",
      "1216         G35381      4\n",
      "4581           L716      4\n",
      "16           I15343      4\n",
      "7181         H27092      4\n",
      "\n",
      "[238880 rows x 2 columns]\n"
     ]
    },
    {
     "data": {
      "text/html": [
       "<div>\n",
       "<style scoped>\n",
       "    .dataframe tbody tr th:only-of-type {\n",
       "        vertical-align: middle;\n",
       "    }\n",
       "\n",
       "    .dataframe tbody tr th {\n",
       "        vertical-align: top;\n",
       "    }\n",
       "\n",
       "    .dataframe thead th {\n",
       "        text-align: right;\n",
       "    }\n",
       "</style>\n",
       "<table border=\"1\" class=\"dataframe\">\n",
       "  <thead>\n",
       "    <tr style=\"text-align: right;\">\n",
       "      <th></th>\n",
       "      <th>song_id</th>\n",
       "      <th>customer_id</th>\n",
       "      <th>score</th>\n",
       "      <th>platform_id</th>\n",
       "    </tr>\n",
       "  </thead>\n",
       "  <tbody>\n",
       "    <tr>\n",
       "      <th>0</th>\n",
       "      <td>8328</td>\n",
       "      <td>H4492</td>\n",
       "      <td>4</td>\n",
       "      <td>T17332564</td>\n",
       "    </tr>\n",
       "    <tr>\n",
       "      <th>1</th>\n",
       "      <td>8328</td>\n",
       "      <td>N36198</td>\n",
       "      <td>4</td>\n",
       "      <td>T17332564</td>\n",
       "    </tr>\n",
       "    <tr>\n",
       "      <th>2</th>\n",
       "      <td>8328</td>\n",
       "      <td>G47151</td>\n",
       "      <td>4</td>\n",
       "      <td>T17332564</td>\n",
       "    </tr>\n",
       "    <tr>\n",
       "      <th>3</th>\n",
       "      <td>8328</td>\n",
       "      <td>I40563</td>\n",
       "      <td>4</td>\n",
       "      <td>T17332564</td>\n",
       "    </tr>\n",
       "    <tr>\n",
       "      <th>4</th>\n",
       "      <td>8328</td>\n",
       "      <td>K45425</td>\n",
       "      <td>4</td>\n",
       "      <td>T17332564</td>\n",
       "    </tr>\n",
       "  </tbody>\n",
       "</table>\n",
       "</div>"
      ],
      "text/plain": [
       "   song_id customer_id  score platform_id\n",
       "0     8328       H4492      4   T17332564\n",
       "1     8328      N36198      4   T17332564\n",
       "2     8328      G47151      4   T17332564\n",
       "3     8328      I40563      4   T17332564\n",
       "4     8328      K45425      4   T17332564"
      ]
     },
     "execution_count": 38,
     "metadata": {},
     "output_type": "execute_result"
    }
   ],
   "source": [
    "save=pd.read_csv('save_for_later.csv')\n",
    "\n",
    "songs=pd.read_csv('songs.csv')\n",
    "#print(songs)\n",
    "#print(save)\n",
    "save['score']=4\n",
    "lis=list(songs['song_id'].unique())\n",
    "li=[]\n",
    "for i in lis:\n",
    "    if i in list(save['song_id'].unique()):\n",
    "        li.append(i)\n",
    "\n",
    "                 \n",
    "save=save.set_index('song_id')\n",
    "print(save)\n",
    "save=save.loc[li]\n",
    "save['platform_id']=songs.set_index('song_id')['platform_id']\n",
    "\n",
    "save=save.reset_index()\n",
    "save.head()\n"
   ]
  },
  {
   "cell_type": "code",
   "execution_count": 39,
   "metadata": {},
   "outputs": [
    {
     "name": "stdout",
     "output_type": "stream",
     "text": [
      "710109\n"
     ]
    }
   ],
   "source": [
    "print(len(train))"
   ]
  },
  {
   "cell_type": "code",
   "execution_count": 40,
   "metadata": {},
   "outputs": [
    {
     "name": "stdout",
     "output_type": "stream",
     "text": [
      "3459\n",
      "        song_id customer_id  score platform_id\n",
      "0          8328      J16874      3   T17332564\n",
      "1          8328      G35191      4   T17332564\n",
      "2          8328      M40077      4   T17332564\n",
      "3          8328      M17487      3   T17332564\n",
      "4          8328      O42549      3   T17332564\n",
      "...         ...         ...    ...         ...\n",
      "709186     8970      K15615      3      U61915\n",
      "709187     8970      I39733      4      U61915\n",
      "709188     8970      N21898      4      U61915\n",
      "709189     8970      N18298      4      U61915\n",
      "709190     8970       M2527      3      U61915\n",
      "\n",
      "[709191 rows x 4 columns]\n",
      "       29011 25148 8717  15169 1540  6828  25765 27199 25147 24996  ... 8533   \\\n",
      "J16874   NaN   NaN   NaN   NaN   NaN   NaN   NaN   NaN   NaN   NaN  ...   NaN   \n",
      "G35191   NaN   NaN   NaN   NaN   NaN   NaN   NaN   NaN   NaN   NaN  ...   NaN   \n",
      "M40077   NaN   NaN   NaN   NaN   NaN   NaN   NaN   NaN   NaN   NaN  ...   NaN   \n",
      "M17487   NaN   NaN   NaN   NaN   NaN   NaN   NaN   NaN   NaN   NaN  ...   NaN   \n",
      "O42549   NaN   NaN   NaN   NaN   NaN   NaN   NaN   NaN   NaN   NaN  ...   NaN   \n",
      "...      ...   ...   ...   ...   ...   ...   ...   ...   ...   ...  ...   ...   \n",
      "G47061   NaN   NaN   NaN   NaN   NaN   NaN   NaN   NaN   NaN   NaN  ...   NaN   \n",
      "J43544   NaN   NaN   NaN   NaN   NaN   NaN   NaN   NaN   NaN   NaN  ...   NaN   \n",
      "N33108   NaN   NaN   NaN   NaN   NaN   NaN   NaN   NaN   NaN   NaN  ...   NaN   \n",
      "O44589   NaN   NaN   NaN   NaN   NaN   NaN   NaN   NaN   NaN   NaN  ...   NaN   \n",
      "O38669   NaN   NaN   NaN   NaN   NaN   NaN   NaN   NaN   NaN   NaN  ...   NaN   \n",
      "\n",
      "       7457  1128  1010  5751  17124 21274 20957 1542  26842  \n",
      "J16874   NaN   NaN   NaN   NaN   NaN   NaN   NaN   NaN   NaN  \n",
      "G35191   NaN   NaN   NaN   NaN   NaN   NaN   NaN   NaN   NaN  \n",
      "M40077   NaN   NaN   NaN   NaN   NaN   NaN   NaN   NaN   NaN  \n",
      "M17487   NaN   NaN   NaN   NaN   NaN   NaN   NaN   NaN   NaN  \n",
      "O42549   NaN   NaN   NaN   NaN   NaN   NaN   NaN   NaN   NaN  \n",
      "...      ...   ...   ...   ...   ...   ...   ...   ...   ...  \n",
      "G47061   NaN   NaN   NaN   NaN   NaN   NaN   NaN   NaN   NaN  \n",
      "J43544   NaN   NaN   NaN   NaN   NaN   NaN   NaN   NaN   NaN  \n",
      "N33108   NaN   NaN   NaN   NaN   NaN   NaN   NaN   NaN   NaN  \n",
      "O44589   NaN   NaN   NaN   NaN   NaN   NaN   NaN   NaN   NaN  \n",
      "O38669   NaN   NaN   NaN   NaN   NaN   NaN   NaN   NaN   NaN  \n",
      "\n",
      "[14053 rows x 186 columns]\n",
      "1000\n",
      "2000\n",
      "3000\n",
      "4000\n",
      "5000\n",
      "6000\n",
      "7000\n",
      "8000\n",
      "9000\n",
      "10000\n",
      "11000\n",
      "12000\n",
      "13000\n",
      "14000\n",
      "<pandas.core.groupby.generic.DataFrameGroupBy object at 0x7f125f9e64c0>\n"
     ]
    }
   ],
   "source": [
    "train=pd.read_csv('train.csv')\n",
    "#train['platform_id']=train['song_id']\n",
    "songs=pd.read_csv('songs.csv')\n",
    "print(train.loc[0]['song_id'])\n",
    "train=train.set_index('song_id')\n",
    "train=train.loc[list(songs['song_id'].unique())]\n",
    "train['platform_id']=songs.set_index('song_id')['platform_id']\n",
    "train=train.reset_index()\n",
    "print(train)\n",
    "#songs.set_index('song_id')\n",
    "#train['platform_id']=songs['platform_id']\n",
    "#def add_song_ig(row):\n",
    " #   row['platform_id']=songs[songs['song_id']==row['song_id']]['platform_id']\n",
    " #   return row\n",
    "#train.apply(add_song_ig,axis=1)\n",
    "\n",
    "test2=train.loc[600000:].copy()\n",
    "train2=pd.concat([train[0:600000].copy(), save.copy()])\n",
    "user_vector=pd.DataFrame(columns=list(abc['label_id'].unique()),index=list(train2['customer_id'].unique()))\n",
    "print(user_vector)\n",
    "#users=train2.groupby('customer_id')\n",
    "users=pd.concat([train.copy(), save.copy()]).groupby('customer_id')\n",
    "def find_vec(frame):\n",
    "    temp=label_vector.loc[list(frame['platform_id']),:].mul(list(frame['score']-3),axis=0)\n",
    "    temp=temp.sum(axis=0)\n",
    "    return temp/np.sqrt(temp.mul(temp,axis=0).sum())\n",
    "count=0\n",
    "\n",
    "for name,frame in users:\n",
    "    user_vector.loc[name]=find_vec(frame)\n",
    "    count=count+1\n",
    "    if(count%1000==0):\n",
    "        print(count)\n",
    "        #print(frame['score']-2.5)\n",
    "\n",
    "print(users)"
   ]
  },
  {
   "cell_type": "code",
   "execution_count": 41,
   "metadata": {},
   "outputs": [
    {
     "name": "stdout",
     "output_type": "stream",
     "text": [
      "3000\n",
      "6000\n",
      "9000\n",
      "12000\n",
      "3000\n",
      "6000\n",
      "9000\n"
     ]
    }
   ],
   "source": [
    "user_means=pd.DataFrame(np.zeros(14053),index=list(train2['customer_id'].unique()))\n",
    "song_means=pd.DataFrame(np.zeros(10000),index=np.unique(abc.index.values))\n",
    "user_std=pd.DataFrame(np.zeros(14053),index=list(train2['customer_id'].unique()))\n",
    "song_std=pd.DataFrame(np.zeros(10000),index=np.unique(abc.index.values))\n",
    "for_means=train[0:600000].copy()\n",
    "user_m=train.groupby('customer_id')\n",
    "song_m=train.groupby('platform_id')\n",
    "count=0\n",
    "for name,frame in user_m:\n",
    "    user_means.loc[name]=frame['score'].mean()\n",
    "    user_std.loc[name]=frame['score'].std()\n",
    "    count=count+1\n",
    "    if(count%3000==0):\n",
    "        print(count)\n",
    "        \n",
    "count=0\n",
    "for name,frame in song_m:\n",
    "    song_means.loc[name]=frame['score'].mean()\n",
    "    song_std.loc[name]=frame['score'].std()\n",
    "    count=count+1\n",
    "    if(count%3000==0):\n",
    "        print(count)\n",
    "     "
   ]
  },
  {
   "cell_type": "code",
   "execution_count": 42,
   "metadata": {},
   "outputs": [
    {
     "name": "stdout",
     "output_type": "stream",
     "text": [
      "               0\n",
      "J16874  3.888889\n",
      "G35191  4.095238\n",
      "M40077  4.106061\n",
      "M17487  4.084746\n",
      "O42549  3.823529\n",
      "...          ...\n",
      "G47061  3.000000\n",
      "J43544  4.625000\n",
      "N33108  4.222222\n",
      "O44589  3.375000\n",
      "O38669  4.500000\n",
      "\n",
      "[14053 rows x 1 columns]\n",
      "                 0\n",
      "P10       4.833333\n",
      "P10090    3.500000\n",
      "P102030   4.222222\n",
      "P10210    3.996667\n",
      "P1025250  4.208333\n",
      "...            ...\n",
      "Y9917879  3.833333\n",
      "Y99219    3.814815\n",
      "Y99329    3.566667\n",
      "Y9975679  3.777778\n",
      "Y9975779  4.200000\n",
      "\n",
      "[10000 rows x 1 columns]\n",
      "                 0\n",
      "P10       0.379049\n",
      "P10090    1.269296\n",
      "P102030   0.732084\n",
      "P10210    1.023488\n",
      "P1025250  0.658005\n",
      "...            ...\n",
      "Y9917879  1.049500\n",
      "Y99219    1.075498\n",
      "Y99329    1.040004\n",
      "Y9975679  0.942809\n",
      "Y9975779  0.767772\n",
      "\n",
      "[10000 rows x 1 columns]\n"
     ]
    },
    {
     "data": {
      "text/plain": [
       "709191"
      ]
     },
     "execution_count": 42,
     "metadata": {},
     "output_type": "execute_result"
    }
   ],
   "source": [
    "print(user_means)\n",
    "print(song_means)\n",
    "print(song_std)\n",
    "len(train)"
   ]
  },
  {
   "cell_type": "code",
   "execution_count": 43,
   "metadata": {},
   "outputs": [
    {
     "name": "stdout",
     "output_type": "stream",
     "text": [
      "947797\n"
     ]
    }
   ],
   "source": [
    "train2=pd.concat([train.copy(), save.copy()])\n",
    "print(len(train2))"
   ]
  },
  {
   "cell_type": "code",
   "execution_count": 44,
   "metadata": {},
   "outputs": [
    {
     "name": "stdout",
     "output_type": "stream",
     "text": [
      "                    0         1         2         3         4         5  \\\n",
      "customer_id                                                               \n",
      "F100         0.010242 -0.000753 -0.014312 -0.006872 -0.001490 -0.003498   \n",
      "F10040      -0.001778 -0.000850 -0.001954 -0.004542 -0.007145 -0.010287   \n",
      "F10050      -0.008645 -0.021335 -0.009117  0.005265  0.015720 -0.002987   \n",
      "F10070      -0.000540  0.002795 -0.002355  0.005361  0.000763 -0.000851   \n",
      "F1010        0.009594  0.005321  0.009611  0.003475 -0.004796  0.009057   \n",
      "...               ...       ...       ...       ...       ...       ...   \n",
      "O9839        0.002988  0.007462 -0.005064 -0.010621 -0.008965  0.000502   \n",
      "O9849       -0.014959 -0.011841 -0.050719 -0.016805  0.014917 -0.050057   \n",
      "O9909        0.048100 -0.039227  0.002537  0.025191 -0.004189  0.013719   \n",
      "O9939        0.002914  0.006536 -0.004137 -0.006616 -0.005006 -0.002420   \n",
      "O9999        0.007448 -0.003595 -0.003103 -0.005686  0.007181 -0.000444   \n",
      "\n",
      "                    6         7         8         9  ...        90        91  \\\n",
      "customer_id                                          ...                       \n",
      "F100         0.002150  0.009906 -0.000741  0.002502  ... -0.004847  0.018154   \n",
      "F10040       0.015371 -0.000809  0.000657  0.008898  ... -0.001812  0.072813   \n",
      "F10050      -0.002711  0.020866  0.001367  0.023881  ...  0.002892 -0.009254   \n",
      "F10070      -0.004027 -0.004860  0.006463  0.000781  ...  0.005633 -0.002564   \n",
      "F1010       -0.004287  0.010582 -0.003526 -0.000271  ... -0.006434  0.072428   \n",
      "...               ...       ...       ...       ...  ...       ...       ...   \n",
      "O9839        0.006598 -0.000434 -0.011949 -0.004386  ...  0.007243  0.000627   \n",
      "O9849       -0.052653  0.035727  0.024849 -0.004979  ... -0.003742  0.012520   \n",
      "O9909       -0.035049 -0.001225 -0.028870  0.026618  ...  0.036170  0.023161   \n",
      "O9939        0.001364 -0.004646  0.004994  0.000357  ... -0.009452 -0.023793   \n",
      "O9999       -0.005424 -0.000146  0.014223  0.001513  ...  0.006572 -0.013414   \n",
      "\n",
      "                   92        93        94        95        96        97  \\\n",
      "customer_id                                                               \n",
      "F100        -0.001523 -0.017042  0.010238 -0.006718  0.019961 -0.004840   \n",
      "F10040      -0.011174 -0.041573  0.032458 -0.023648  0.057778 -0.030128   \n",
      "F10050       0.020863  0.004152 -0.006337  0.015441 -0.003374 -0.031919   \n",
      "F10070       0.006761  0.002892 -0.019954  0.003942  0.010347 -0.004056   \n",
      "F1010       -0.009258 -0.059110  0.020571 -0.034719  0.043436 -0.023770   \n",
      "...               ...       ...       ...       ...       ...       ...   \n",
      "O9839        0.006307 -0.005444 -0.024764  0.002321  0.008078 -0.013057   \n",
      "O9849        0.005373 -0.022048  0.005433 -0.033850  0.004577 -0.027388   \n",
      "O9909       -0.026624  0.026110 -0.008828 -0.006202  0.010565  0.001074   \n",
      "O9939        0.010166 -0.012471 -0.011055 -0.000204  0.005279  0.011412   \n",
      "O9999        0.008717  0.000119  0.002004 -0.003342  0.000360 -0.018773   \n",
      "\n",
      "                   98        99  \n",
      "customer_id                      \n",
      "F100         0.016083 -0.022859  \n",
      "F10040       0.058229 -0.098193  \n",
      "F10050       0.011734 -0.048324  \n",
      "F10070       0.006099 -0.002018  \n",
      "F1010        0.051095 -0.066835  \n",
      "...               ...       ...  \n",
      "O9839       -0.032795 -0.016517  \n",
      "O9849        0.035374 -0.059872  \n",
      "O9909        0.055450 -0.140542  \n",
      "O9939       -0.011820 -0.015348  \n",
      "O9999        0.009641 -0.036511  \n",
      "\n",
      "[14053 rows x 100 columns]\n",
      "                0         1         2         3         4         5         6  \\\n",
      "song_id                                                                         \n",
      "1       -0.007416 -0.004871 -0.009925  0.059630  0.015344  0.040713 -0.042386   \n",
      "2        0.019297  0.012563  0.005380  0.021252  0.049420  0.042507  0.076302   \n",
      "3        0.026551  0.045552  0.015761 -0.007721 -0.015224  0.051547 -0.047054   \n",
      "4        0.058262 -0.008666  0.003109 -0.002718  0.039492  0.038213  0.016000   \n",
      "5        0.029252 -0.033364 -0.020108  0.003686  0.028151  0.027847  0.026973   \n",
      "...           ...       ...       ...       ...       ...       ...       ...   \n",
      "9996    -0.036732  0.003675  0.012124 -0.040191 -0.014023  0.046431  0.009632   \n",
      "9997     0.023270 -0.011367  0.016049  0.006781 -0.002564  0.001996 -0.006953   \n",
      "9998    -0.003312  0.012011  0.011344  0.016704  0.019283 -0.000390 -0.022113   \n",
      "9999    -0.018653 -0.011941  0.009431  0.011018  0.016021 -0.012367 -0.018493   \n",
      "10000    0.009644 -0.012238 -0.015227 -0.004675  0.019838 -0.008784 -0.010723   \n",
      "\n",
      "                7         8         9  ...        90        91        92  \\\n",
      "song_id                                ...                                 \n",
      "1       -0.044974  0.027696  0.010984  ... -0.025865 -0.083386  0.055339   \n",
      "2       -0.045059 -0.016541  0.002313  ... -0.031899 -0.040102  0.053994   \n",
      "3       -0.054695  0.048528  0.005420  ... -0.016495 -0.045196 -0.016629   \n",
      "4       -0.023584  0.002077  0.004133  ... -0.022072 -0.015790  0.021318   \n",
      "5       -0.042388 -0.010948  0.014177  ... -0.042565  0.097138 -0.005026   \n",
      "...           ...       ...       ...  ...       ...       ...       ...   \n",
      "9996     0.093412 -0.026982  0.021361  ...  0.029623 -0.022176 -0.017519   \n",
      "9997    -0.014080 -0.026414  0.008675  ...  0.018618  0.014501 -0.010004   \n",
      "9998     0.000221  0.005081 -0.000900  ...  0.004156  0.028537 -0.004457   \n",
      "9999    -0.003757 -0.029316 -0.001214  ... -0.008215 -0.007839  0.010053   \n",
      "10000    0.016243  0.005436 -0.004827  ...  0.018044  0.010906 -0.010282   \n",
      "\n",
      "               93        94        95        96        97        98        99  \n",
      "song_id                                                                        \n",
      "1       -0.044915 -0.115665  0.135278  0.033718 -0.053149 -0.151848 -0.648061  \n",
      "2        0.011527 -0.026228  0.122331  0.004355 -0.156673 -0.007994 -0.649140  \n",
      "3        0.010655  0.046576  0.077308  0.019547  0.098071 -0.315935 -0.195145  \n",
      "4       -0.171592 -0.007917  0.034938  0.208290 -0.021951  0.152986 -0.558571  \n",
      "5       -0.173799  0.037731 -0.048874  0.181619 -0.058283  0.145526 -0.397822  \n",
      "...           ...       ...       ...       ...       ...       ...       ...  \n",
      "9996    -0.006142  0.005786  0.001678 -0.035971 -0.002097 -0.025013 -0.029628  \n",
      "9997    -0.030214 -0.004228 -0.021792  0.011187  0.004405  0.024757 -0.029344  \n",
      "9998    -0.017975  0.009489 -0.035791 -0.002431 -0.019266  0.029467 -0.037831  \n",
      "9999    -0.016429  0.002925  0.004872  0.023542 -0.006344  0.015000 -0.037942  \n",
      "10000   -0.019006 -0.008938 -0.021179  0.005873  0.001387  0.020287 -0.035566  \n",
      "\n",
      "[10000 rows x 100 columns]\n"
     ]
    }
   ],
   "source": [
    "users_z=pd.read_csv('users_nz.csv')\n",
    "songs_z=pd.read_csv('songs_nz.csv')\n",
    "users_z=users_z.set_index('customer_id')\n",
    "songs_z=songs_z.set_index('song_id')\n",
    "print(users_z)\n",
    "print(songs_z)\n",
    "\n"
   ]
  },
  {
   "cell_type": "code",
   "execution_count": 45,
   "metadata": {
    "scrolled": true
   },
   "outputs": [
    {
     "name": "stdout",
     "output_type": "stream",
     "text": [
      "0\n",
      "10000\n",
      "20000\n",
      "30000\n",
      "40000\n",
      "50000\n",
      "60000\n",
      "70000\n",
      "80000\n",
      "90000\n",
      "100000\n",
      "110000\n",
      "120000\n",
      "130000\n",
      "140000\n",
      "150000\n",
      "160000\n",
      "170000\n",
      "180000\n",
      "190000\n",
      "200000\n",
      "210000\n",
      "220000\n",
      "230000\n",
      "240000\n",
      "250000\n",
      "260000\n",
      "270000\n",
      "280000\n",
      "290000\n",
      "300000\n",
      "310000\n",
      "320000\n",
      "330000\n",
      "340000\n",
      "350000\n",
      "360000\n",
      "370000\n",
      "380000\n",
      "390000\n",
      "400000\n",
      "410000\n",
      "420000\n",
      "430000\n",
      "440000\n",
      "450000\n",
      "460000\n",
      "470000\n",
      "480000\n",
      "490000\n",
      "500000\n",
      "510000\n",
      "520000\n",
      "530000\n",
      "540000\n",
      "550000\n",
      "560000\n",
      "570000\n",
      "580000\n",
      "590000\n",
      "600000\n",
      "610000\n",
      "620000\n",
      "630000\n",
      "640000\n",
      "650000\n",
      "660000\n",
      "670000\n",
      "680000\n",
      "690000\n",
      "700000\n",
      "710000\n",
      "720000\n",
      "730000\n",
      "740000\n",
      "750000\n",
      "760000\n",
      "770000\n",
      "780000\n",
      "790000\n",
      "800000\n",
      "810000\n",
      "820000\n",
      "830000\n",
      "840000\n",
      "850000\n",
      "860000\n",
      "870000\n",
      "880000\n",
      "890000\n",
      "900000\n",
      "910000\n",
      "920000\n",
      "930000\n",
      "940000\n"
     ]
    }
   ],
   "source": [
    "#print(user_vector)\n",
    "\n",
    "x_train=np.zeros(shape=(len(train2),576))\n",
    "y_train=np.zeros(len(train2)).astype(int)\n",
    "songs=pd.read_csv('songs.csv')\n",
    "songs=songs.set_index('song_id')\n",
    "for i in range(len(train2)):\n",
    "    row=train2.iloc[i]\n",
    "    if(row['song_id'] in songs.index.values):\n",
    "        plat=songs.loc[row['song_id']]['platform_id']\n",
    "        x_train[i,:]=np.append(np.concatenate((np.array(user_vector.loc[row['customer_id']]),np.array(users_z.loc[row['customer_id']]),np.array(label_vector.loc[plat]),np.array(songs_z.loc[row['song_id']]))),[user_means.loc[row['customer_id']],song_means.loc[plat],user_std.loc[row['customer_id']],song_std.loc[plat]])\n",
    "    y_train[i]=row['score'].astype(int)\n",
    "    if(i%10000==0):\n",
    "        print(i)\n",
    "        #print(x_train[i])\n",
    "        #print(user_vector.loc[row['customer_id']])\n",
    "        #print(label_vector.loc[plat])\n",
    "    i=i+1    \n"
   ]
  },
  {
   "cell_type": "code",
   "execution_count": 46,
   "metadata": {},
   "outputs": [
    {
     "name": "stdout",
     "output_type": "stream",
     "text": [
      "0\n",
      "10000\n",
      "20000\n",
      "30000\n",
      "40000\n",
      "50000\n",
      "60000\n",
      "70000\n",
      "80000\n",
      "90000\n",
      "100000\n",
      "[[0.03205084 0.07011752 0.23521014 ... 3.5625     0.64032464 1.15289491]\n",
      " [0.05109886 0.03238088 0.22926105 ... 3.5625     0.70034005 1.15289491]\n",
      " [0.0708555  0.09039431 0.20270864 ... 3.5625     0.70446462 1.15289491]\n",
      " ...\n",
      " [0.01766109 0.02494931 0.24435711 ... 3.61538462 0.97026499 0.65044364]\n",
      " [0.04016086 0.01466467 0.24131474 ... 3.61538462 0.82093008 0.65044364]\n",
      " [0.01956676 0.04701982 0.24018772 ... 3.61538462 0.87767292 0.65044364]]\n",
      "[3 4 4 ... 4 4 4]\n"
     ]
    }
   ],
   "source": [
    "x_test=np.zeros(shape=(len(test2),576))\n",
    "y_test=np.zeros(len(test2)).astype(int)\n",
    "songs=pd.read_csv('songs.csv')\n",
    "songs=songs.set_index('song_id')\n",
    "for i in range(len(test2)):\n",
    "    row=test2.iloc[i]\n",
    "    if(row['song_id'] in songs.index.values):\n",
    "        plat=songs.loc[row['song_id']]['platform_id']\n",
    "        x_test[i,:]=np.append(np.concatenate((np.array(user_vector.loc[row['customer_id']]),np.array(users_z.loc[row['customer_id']]),np.array(label_vector.loc[plat]),np.array(songs_z.loc[row['song_id']]))),[user_means.loc[row['customer_id']],song_means.loc[plat],user_std.loc[row['customer_id']],song_std.loc[plat]])\n",
    "        y_test[i]=row['score'].astype(int)\n",
    "    if(i%10000==0):\n",
    "        print(i)\n",
    "        #print(y_test[i])\n",
    "        #print(user_vector.loc[row['customer_id']])\n",
    "        #print(label_vector.loc[plat])\n",
    "    i=i+1    \n",
    "        \n",
    "print(x_train)\n",
    "print(y_train)"
   ]
  },
  {
   "cell_type": "code",
   "execution_count": 47,
   "metadata": {},
   "outputs": [
    {
     "name": "stdout",
     "output_type": "stream",
     "text": [
      "        song_id customer_id  score platform_id\n",
      "0          8328      J16874      3   T17332564\n",
      "1          8328      G35191      4   T17332564\n",
      "2          8328      M40077      4   T17332564\n",
      "3          8328      M17487      3   T17332564\n",
      "4          8328      O42549      3   T17332564\n",
      "...         ...         ...    ...         ...\n",
      "238601     8970      H13972      4      U61915\n",
      "238602     8970      I10223      4      U61915\n",
      "238603     8970      H27272      4      U61915\n",
      "238604     8970      G42101      4      U61915\n",
      "238605     8970      L31856      4      U61915\n",
      "\n",
      "[947797 rows x 4 columns]\n",
      "(947797, 576)\n",
      "(947797,)\n"
     ]
    }
   ],
   "source": [
    "print(train2)\n",
    "print(x_train.shape)\n",
    "print(y_train.shape)\n",
    "#plat='T17332564'\n",
    "#print(np.concatenate((np.array(user_vector.loc['J16874']),np.array(label_vector.loc[plat]))))"
   ]
  },
  {
   "cell_type": "code",
   "execution_count": 189,
   "metadata": {},
   "outputs": [],
   "source": [
    "import matplotlib.pyplot as plt\n",
    "from sklearn.linear_model import LogisticRegression\n",
    "from sklearn.metrics import classification_report, confusion_matrix\n"
   ]
  },
  {
   "cell_type": "code",
   "execution_count": 161,
   "metadata": {},
   "outputs": [],
   "source": [
    "model = LogisticRegression(solver='liblinear', random_state=0).fit(x_train, y_train)\n"
   ]
  },
  {
   "cell_type": "code",
   "execution_count": 170,
   "metadata": {},
   "outputs": [
    {
     "ename": "NameError",
     "evalue": "name 'model' is not defined",
     "output_type": "error",
     "traceback": [
      "\u001b[0;31m---------------------------------------------------------------------------\u001b[0m",
      "\u001b[0;31mNameError\u001b[0m                                 Traceback (most recent call last)",
      "\u001b[0;32m<ipython-input-170-f0f5903533b8>\u001b[0m in \u001b[0;36m<module>\u001b[0;34m\u001b[0m\n\u001b[1;32m     15\u001b[0m         \u001b[0mpred\u001b[0m\u001b[0;34m.\u001b[0m\u001b[0miloc\u001b[0m\u001b[0;34m[\u001b[0m\u001b[0mi\u001b[0m\u001b[0;34m]\u001b[0m\u001b[0;34m=\u001b[0m\u001b[0;36m3\u001b[0m\u001b[0;34m\u001b[0m\u001b[0;34m\u001b[0m\u001b[0m\n\u001b[1;32m     16\u001b[0m         \u001b[0;32mcontinue\u001b[0m\u001b[0;34m\u001b[0m\u001b[0;34m\u001b[0m\u001b[0m\n\u001b[0;32m---> 17\u001b[0;31m     \u001b[0mprobs\u001b[0m\u001b[0;34m=\u001b[0m\u001b[0mmodel\u001b[0m\u001b[0;34m.\u001b[0m\u001b[0mpredict_proba\u001b[0m\u001b[0;34m(\u001b[0m\u001b[0mddd\u001b[0m\u001b[0;34m.\u001b[0m\u001b[0mreshape\u001b[0m\u001b[0;34m(\u001b[0m\u001b[0;36m1\u001b[0m\u001b[0;34m,\u001b[0m\u001b[0;34m-\u001b[0m\u001b[0;36m1\u001b[0m\u001b[0;34m)\u001b[0m\u001b[0;34m)\u001b[0m\u001b[0;34m\u001b[0m\u001b[0;34m\u001b[0m\u001b[0m\n\u001b[0m\u001b[1;32m     18\u001b[0m \u001b[0;34m\u001b[0m\u001b[0m\n\u001b[1;32m     19\u001b[0m     \u001b[0mpred\u001b[0m\u001b[0;34m.\u001b[0m\u001b[0miloc\u001b[0m\u001b[0;34m[\u001b[0m\u001b[0mi\u001b[0m\u001b[0;34m]\u001b[0m\u001b[0;34m=\u001b[0m\u001b[0mprobs\u001b[0m\u001b[0;34m[\u001b[0m\u001b[0;34m:\u001b[0m\u001b[0;34m,\u001b[0m\u001b[0;36m0\u001b[0m\u001b[0;34m]\u001b[0m\u001b[0;34m*\u001b[0m\u001b[0;36m1\u001b[0m\u001b[0;34m+\u001b[0m\u001b[0mprobs\u001b[0m\u001b[0;34m[\u001b[0m\u001b[0;34m:\u001b[0m\u001b[0;34m,\u001b[0m\u001b[0;36m1\u001b[0m\u001b[0;34m]\u001b[0m\u001b[0;34m*\u001b[0m\u001b[0;36m2\u001b[0m\u001b[0;34m+\u001b[0m\u001b[0mprobs\u001b[0m\u001b[0;34m[\u001b[0m\u001b[0;34m:\u001b[0m\u001b[0;34m,\u001b[0m\u001b[0;36m2\u001b[0m\u001b[0;34m]\u001b[0m\u001b[0;34m*\u001b[0m\u001b[0;36m3\u001b[0m\u001b[0;34m+\u001b[0m\u001b[0mprobs\u001b[0m\u001b[0;34m[\u001b[0m\u001b[0;34m:\u001b[0m\u001b[0;34m,\u001b[0m\u001b[0;36m3\u001b[0m\u001b[0;34m]\u001b[0m\u001b[0;34m*\u001b[0m\u001b[0;36m4\u001b[0m\u001b[0;34m+\u001b[0m\u001b[0mprobs\u001b[0m\u001b[0;34m[\u001b[0m\u001b[0;34m:\u001b[0m\u001b[0;34m,\u001b[0m\u001b[0;36m4\u001b[0m\u001b[0;34m]\u001b[0m\u001b[0;34m*\u001b[0m\u001b[0;36m5\u001b[0m\u001b[0;34m\u001b[0m\u001b[0;34m\u001b[0m\u001b[0m\n",
      "\u001b[0;31mNameError\u001b[0m: name 'model' is not defined"
     ]
    }
   ],
   "source": [
    "def feat(row):\n",
    "    if(row['song_id'] in songs.index.values):\n",
    "        plat=songs.loc[row['song_id']]['platform_id']\n",
    "        return np.append(np.array(user_vector.loc[row['customer_id']].mul(label_vector.loc[plat],axis=0)),[user_means.loc[row['customer_id']],song_means.loc[plat]])\n",
    "    else:\n",
    "        return np.zeros(shape=(1,188))\n",
    "ddd=np.zeros(shape=(len(test2),188))\n",
    "pred=test2['score'].copy()\n",
    "\n",
    "for i in range(len(test2)):\n",
    "    row=test2.iloc[i]\n",
    "    ddd=np.zeros(shape=(1,188))\n",
    "    ddd=feat(row)\n",
    "    if(ddd.max()==0):\n",
    "        pred.iloc[i]=3\n",
    "        continue\n",
    "    probs=model.predict_proba(ddd.reshape(1,-1))\n",
    "    \n",
    "    pred.iloc[i]=probs[:,0]*1+probs[:,1]*2+probs[:,2]*3+probs[:,3]*4+probs[:,4]*5\n",
    "    if(i%10000==0):\n",
    "        print(i)\n",
    "            "
   ]
  },
  {
   "cell_type": "code",
   "execution_count": 163,
   "metadata": {},
   "outputs": [
    {
     "name": "stdout",
     "output_type": "stream",
     "text": [
      "4.87604660313381\n",
      "500000    3.462462\n",
      "500001    3.179142\n",
      "500002    4.247151\n",
      "500003    4.714138\n",
      "500004    2.968923\n",
      "            ...   \n",
      "709186    3.409449\n",
      "709187    3.407361\n",
      "709188    3.685566\n",
      "709189    3.735673\n",
      "709190    3.972605\n",
      "Name: score, Length: 209191, dtype: float64\n",
      "500000    1.462462\n",
      "500001    0.179142\n",
      "500002    0.247151\n",
      "500003   -0.285862\n",
      "500004    0.968923\n",
      "            ...   \n",
      "709186    0.409449\n",
      "709187   -0.592639\n",
      "709188   -0.314434\n",
      "709189   -0.264327\n",
      "709190    0.972605\n",
      "Name: score, Length: 209191, dtype: float64\n",
      "0.7684465716593326\n"
     ]
    }
   ],
   "source": [
    "train=pd.read_csv('train.csv')\n",
    "#train['platform_id']=train['song_id']\n",
    "test=pd.read_csv('test.csv')\n",
    "songs=pd.read_csv('songs.csv')\n",
    "train=train.set_index('song_id')\n",
    "train=train.loc[list(songs['song_id'].unique())]\n",
    "train['platform_id']=songs.set_index('song_id')['platform_id']\n",
    "train=train.reset_index()\n",
    "test2=train.loc[500000:]\n",
    "train=train.loc[0:500000]\n",
    "print(pred.max())\n",
    "print(pred)\n",
    "pred2=test2['score']\n",
    "error=(pred-pred2)\n",
    "print(error)\n",
    "error=error.mul(error,axis=0)\n",
    "\n",
    "print(error.sum()/len(error))\n"
   ]
  },
  {
   "cell_type": "code",
   "execution_count": 48,
   "metadata": {},
   "outputs": [
    {
     "name": "stderr",
     "output_type": "stream",
     "text": [
      "/home/atharva1511/anaconda3/lib/python3.8/site-packages/xgboost/sklearn.py:1146: UserWarning: The use of label encoder in XGBClassifier is deprecated and will be removed in a future release. To remove this warning, do the following: 1) Pass option use_label_encoder=False when constructing XGBClassifier object; and 2) Encode your labels (y) as integers starting with 0, i.e. 0, 1, 2, ..., [num_class - 1].\n",
      "  warnings.warn(label_encoder_deprecation_msg, UserWarning)\n"
     ]
    },
    {
     "name": "stdout",
     "output_type": "stream",
     "text": [
      "[01:48:18] WARNING: ../src/learner.cc:1095: Starting in XGBoost 1.3.0, the default evaluation metric used with the objective 'multi:softprob' was changed from 'merror' to 'mlogloss'. Explicitly set eval_metric if you'd like to restore the old behavior.\n"
     ]
    },
    {
     "data": {
      "text/plain": [
       "XGBClassifier(base_score=0.5, booster='gbtree', colsample_bylevel=1,\n",
       "              colsample_bynode=1, colsample_bytree=1, gamma=0, gpu_id=-1,\n",
       "              importance_type='gain', interaction_constraints='',\n",
       "              learning_rate=0.300000012, max_delta_step=0, max_depth=6,\n",
       "              min_child_weight=1, missing=nan, monotone_constraints='()',\n",
       "              n_estimators=100, n_jobs=8, num_parallel_tree=1,\n",
       "              objective='multi:softprob', random_state=0, reg_alpha=0,\n",
       "              reg_lambda=1, scale_pos_weight=None, subsample=1,\n",
       "              tree_method='exact', validate_parameters=1, verbosity=None)"
      ]
     },
     "execution_count": 48,
     "metadata": {},
     "output_type": "execute_result"
    }
   ],
   "source": [
    "import xgboost as xgb\n",
    "from xgboost import XGBClassifier\n",
    "model_xbg_save = XGBClassifier()\n",
    "model_xbg_save.fit(x_train, y_train)"
   ]
  },
  {
   "cell_type": "code",
   "execution_count": 49,
   "metadata": {},
   "outputs": [
    {
     "name": "stdout",
     "output_type": "stream",
     "text": [
      "[[0.0233978  0.02784851 0.24129857 ... 3.68217054 0.58824953 0.98412791]\n",
      " [0.02825864 0.03389148 0.23111732 ... 3.68217054 0.88864084 0.98412791]\n",
      " [0.05545051 0.01704436 0.22247312 ... 3.68217054 0.91061812 0.98412791]\n",
      " ...\n",
      " [0.01833909 0.03901991 0.25817951 ... 3.61538462 0.92830553 0.65044364]\n",
      " [0.02586742 0.03321745 0.24453734 ... 3.61538462 0.73758061 0.65044364]\n",
      " [0.04632322 0.0556046  0.20944623 ... 3.61538462 0.89937962 0.65044364]]\n",
      "[[1.3873371e-04 3.6863098e-03 1.2629655e-01 7.9571652e-01 7.4161872e-02]\n",
      " [2.4972931e-03 1.8442836e-02 7.2573356e-02 3.8446313e-01 5.2202338e-01]\n",
      " [1.1785597e-02 4.5940761e-02 3.8039023e-01 3.1609011e-01 2.4579330e-01]\n",
      " ...\n",
      " [1.7914061e-04 9.3049426e-03 4.3776295e-01 5.3110451e-01 2.1648483e-02]\n",
      " [8.6118496e-05 4.3519665e-03 3.4383556e-01 5.8717185e-01 6.4554483e-02]\n",
      " [1.8627047e-04 3.9175870e-03 2.4309134e-01 6.7818582e-01 7.4618973e-02]]\n",
      "[3.9400764 4.405072  3.7381647 ... 3.5647383 3.7117567 3.8231337]\n"
     ]
    },
    {
     "data": {
      "text/plain": [
       "0.5729173949485937"
      ]
     },
     "execution_count": 49,
     "metadata": {},
     "output_type": "execute_result"
    }
   ],
   "source": [
    "print(x_test)\n",
    "pred_xbg_save= model_xbg_save.predict_proba(x_test)\n",
    "from sklearn.metrics import mean_squared_error\n",
    "\n",
    "print(pred_xbg_save)\n",
    "preds_xbg_save=pred_xbg_save[:,0]*1+pred_xbg_save[:,1]*2+pred_xbg_save[:,2]*3+pred_xbg_save[:,3]*4+pred_xbg_save[:,4]*5\n",
    "print(preds_xbg_save)\n",
    "mean_squared_error(y_test, preds_xbg_save)\n",
    "#test3=pd.read_csv('test.csv')\n",
    "#print(test3)"
   ]
  },
  {
   "cell_type": "code",
   "execution_count": 50,
   "metadata": {},
   "outputs": [
    {
     "name": "stdout",
     "output_type": "stream",
     "text": [
      "0\n",
      "10000\n",
      "20000\n",
      "30000\n",
      "40000\n",
      "50000\n",
      "60000\n",
      "70000\n",
      "80000\n",
      "90000\n",
      "100000\n",
      "110000\n",
      "120000\n",
      "130000\n",
      "140000\n",
      "150000\n",
      "160000\n",
      "170000\n",
      "180000\n",
      "190000\n",
      "200000\n",
      "210000\n",
      "220000\n",
      "230000\n",
      "240000\n",
      "250000\n",
      "260000\n",
      "270000\n",
      "280000\n",
      "290000\n",
      "300000\n",
      "310000\n",
      "320000\n",
      "330000\n",
      "340000\n",
      "350000\n",
      "360000\n",
      "370000\n",
      "380000\n",
      "390000\n",
      "400000\n",
      "410000\n",
      "420000\n",
      "430000\n",
      "440000\n",
      "450000\n",
      "460000\n",
      "470000\n",
      "480000\n",
      "490000\n",
      "500000\n",
      "510000\n",
      "520000\n",
      "530000\n",
      "540000\n",
      "550000\n",
      "560000\n",
      "570000\n",
      "580000\n",
      "590000\n",
      "600000\n",
      "610000\n",
      "620000\n",
      "630000\n",
      "640000\n",
      "650000\n",
      "660000\n",
      "670000\n",
      "[[5.33480113e-02 2.34524338e-02 2.80607661e-01 ... 3.46808511e+00\n",
      "  9.27300925e-01 8.30166663e-01]\n",
      " [8.08182051e-03 7.08698518e-02 2.45174996e-01 ... 3.84257871e+00\n",
      "  8.59449910e-01 9.14079695e-01]\n",
      " [0.00000000e+00 1.05324519e-02 2.86700970e-01 ... 4.16812964e+00\n",
      "  8.52802865e-01 9.61114120e-01]\n",
      " ...\n",
      " [6.84303980e-02 8.71872709e-02 1.94148974e-01 ... 3.78125000e+00\n",
      "  9.20662287e-01 1.11936419e+00]\n",
      " [2.74262937e-03 3.41460769e-02 2.20594430e-01 ... 3.90517241e+00\n",
      "  9.25857191e-01 9.86680410e-01]\n",
      " [3.76172430e-02 3.02807802e-02 2.34209562e-01 ... 3.23809524e+00\n",
      "  8.54070974e-01 9.43650460e-01]]\n",
      "842\n"
     ]
    }
   ],
   "source": [
    "test3=pd.read_csv('test.csv')\n",
    "x_test_sub=np.zeros(shape=(len(test3),576))\n",
    "songs=pd.read_csv('songs.csv')\n",
    "songs=songs.set_index('song_id')\n",
    "count=0\n",
    "for i in range(len(test3)):\n",
    "    row=test3.iloc[i]\n",
    "    if(row['song_id'] in songs.index.values):\n",
    "        plat=songs.loc[row['song_id']]['platform_id']\n",
    "        x_test_sub[i,:]=np.append(np.concatenate((np.array(user_vector.loc[row['customer_id']]),np.array(users_z.loc[row['customer_id']]),np.array(label_vector.loc[plat]),np.array(songs_z.loc[row['song_id']]))),[user_means.loc[row['customer_id']],song_means.loc[plat],user_std.loc[row['customer_id']],song_std.loc[plat]])\n",
    "        \n",
    "    else:\n",
    "        count=count+1\n",
    "    if(i%10000==0):\n",
    "        print(i)\n",
    "        #print(y_test[i])\n",
    "        #print(user_vector.loc[row['customer_id']])\n",
    "        #print(label_vector.loc[plat])\n",
    "    i=i+1    \n",
    "        \n",
    "print(x_test_sub)\n",
    "print(count)"
   ]
  },
  {
   "cell_type": "code",
   "execution_count": 51,
   "metadata": {},
   "outputs": [
    {
     "name": "stdout",
     "output_type": "stream",
     "text": [
      "[[0.0071536  0.20385776 0.12302023 0.66245604 0.00351238]]\n",
      "[3.5966794 3.7707152 4.1891747 ... 3.957462  4.405635  3.4353473]\n",
      "842\n",
      "           score\n",
      "0       3.596679\n",
      "1       3.770715\n",
      "2       4.189175\n",
      "3       3.879543\n",
      "4       4.294584\n",
      "...          ...\n",
      "670676  3.177567\n",
      "670677  4.410279\n",
      "670678  3.957462\n",
      "670679  4.405635\n",
      "670680  3.435347\n",
      "\n",
      "[670681 rows x 1 columns]\n"
     ]
    }
   ],
   "source": [
    "x_test_su=x_test_sub[:,0:185]\n",
    "x_test_su=np.sum(np.absolute(x_test_su),axis=1)\n",
    "\n",
    "#print(.shape)\n",
    "#print(np.count_nonzero(np.sum(np.absolute(x_test_su),axis=1)))\n",
    "print(model_xbg_save.predict_proba(np.zeros(shape=(1,576))))\n",
    "pred_xbg_save= model_xbg_save.predict_proba(x_test_sub)\n",
    "preds_xbg_save=pred_xbg_save[:,0]*1+pred_xbg_save[:,1]*2+pred_xbg_save[:,2]*3+pred_xbg_save[:,3]*4+pred_xbg_save[:,4]*5\n",
    "print(preds_xbg_save)\n",
    "print(len(preds_xbg_save[x_test_su<0.1]))\n",
    "preds_xbg_save[x_test_su<0.1]=3.5\n",
    "\n",
    "preds_xbg_save=pd.DataFrame(preds_xbg_save,columns=['score'])\n",
    "\n",
    "print(preds_xbg_save)\n"
   ]
  },
  {
   "cell_type": "code",
   "execution_count": 172,
   "metadata": {},
   "outputs": [
    {
     "name": "stdout",
     "output_type": "stream",
     "text": [
      "0\n",
      "10000\n",
      "20000\n",
      "30000\n",
      "40000\n",
      "50000\n",
      "60000\n",
      "70000\n",
      "80000\n",
      "90000\n",
      "100000\n",
      "110000\n",
      "120000\n",
      "130000\n"
     ]
    },
    {
     "ename": "KeyboardInterrupt",
     "evalue": "",
     "output_type": "error",
     "traceback": [
      "\u001b[0;31m---------------------------------------------------------------------------\u001b[0m",
      "\u001b[0;31mKeyboardInterrupt\u001b[0m                         Traceback (most recent call last)",
      "\u001b[0;32m<ipython-input-172-52024222f9d0>\u001b[0m in \u001b[0;36m<module>\u001b[0;34m\u001b[0m\n\u001b[1;32m     15\u001b[0m         \u001b[0mpred_xbg_save\u001b[0m\u001b[0;34m.\u001b[0m\u001b[0miloc\u001b[0m\u001b[0;34m[\u001b[0m\u001b[0mi\u001b[0m\u001b[0;34m]\u001b[0m\u001b[0;34m=\u001b[0m\u001b[0;36m3.8\u001b[0m\u001b[0;34m\u001b[0m\u001b[0;34m\u001b[0m\u001b[0m\n\u001b[1;32m     16\u001b[0m         \u001b[0;32mcontinue\u001b[0m\u001b[0;34m\u001b[0m\u001b[0;34m\u001b[0m\u001b[0m\n\u001b[0;32m---> 17\u001b[0;31m     \u001b[0mprobs\u001b[0m\u001b[0;34m=\u001b[0m\u001b[0mmodel_xbg_save\u001b[0m\u001b[0;34m.\u001b[0m\u001b[0mpredict_proba\u001b[0m\u001b[0;34m(\u001b[0m\u001b[0mddd\u001b[0m\u001b[0;34m.\u001b[0m\u001b[0mreshape\u001b[0m\u001b[0;34m(\u001b[0m\u001b[0;36m1\u001b[0m\u001b[0;34m,\u001b[0m\u001b[0;34m-\u001b[0m\u001b[0;36m1\u001b[0m\u001b[0;34m)\u001b[0m\u001b[0;34m)\u001b[0m\u001b[0;34m\u001b[0m\u001b[0;34m\u001b[0m\u001b[0m\n\u001b[0m\u001b[1;32m     18\u001b[0m \u001b[0;34m\u001b[0m\u001b[0m\n\u001b[1;32m     19\u001b[0m     \u001b[0mpred_xbg_save\u001b[0m\u001b[0;34m.\u001b[0m\u001b[0miloc\u001b[0m\u001b[0;34m[\u001b[0m\u001b[0mi\u001b[0m\u001b[0;34m]\u001b[0m\u001b[0;34m=\u001b[0m\u001b[0mprobs\u001b[0m\u001b[0;34m[\u001b[0m\u001b[0;34m:\u001b[0m\u001b[0;34m,\u001b[0m\u001b[0;36m0\u001b[0m\u001b[0;34m]\u001b[0m\u001b[0;34m*\u001b[0m\u001b[0;36m1\u001b[0m\u001b[0;34m+\u001b[0m\u001b[0mprobs\u001b[0m\u001b[0;34m[\u001b[0m\u001b[0;34m:\u001b[0m\u001b[0;34m,\u001b[0m\u001b[0;36m1\u001b[0m\u001b[0;34m]\u001b[0m\u001b[0;34m*\u001b[0m\u001b[0;36m2\u001b[0m\u001b[0;34m+\u001b[0m\u001b[0mprobs\u001b[0m\u001b[0;34m[\u001b[0m\u001b[0;34m:\u001b[0m\u001b[0;34m,\u001b[0m\u001b[0;36m2\u001b[0m\u001b[0;34m]\u001b[0m\u001b[0;34m*\u001b[0m\u001b[0;36m3\u001b[0m\u001b[0;34m+\u001b[0m\u001b[0mprobs\u001b[0m\u001b[0;34m[\u001b[0m\u001b[0;34m:\u001b[0m\u001b[0;34m,\u001b[0m\u001b[0;36m3\u001b[0m\u001b[0;34m]\u001b[0m\u001b[0;34m*\u001b[0m\u001b[0;36m4\u001b[0m\u001b[0;34m+\u001b[0m\u001b[0mprobs\u001b[0m\u001b[0;34m[\u001b[0m\u001b[0;34m:\u001b[0m\u001b[0;34m,\u001b[0m\u001b[0;36m4\u001b[0m\u001b[0;34m]\u001b[0m\u001b[0;34m*\u001b[0m\u001b[0;36m5\u001b[0m\u001b[0;34m\u001b[0m\u001b[0;34m\u001b[0m\u001b[0m\n",
      "\u001b[0;32m~/anaconda3/lib/python3.8/site-packages/xgboost/sklearn.py\u001b[0m in \u001b[0;36mpredict_proba\u001b[0;34m(self, X, ntree_limit, validate_features, base_margin, iteration_range)\u001b[0m\n\u001b[1;32m   1271\u001b[0m         \u001b[0;31m# binary:logistic: Expand the prob vector into 2-class matrix after predict.\u001b[0m\u001b[0;34m\u001b[0m\u001b[0;34m\u001b[0m\u001b[0;34m\u001b[0m\u001b[0m\n\u001b[1;32m   1272\u001b[0m         \u001b[0;31m# binary:logitraw: Unsupported by predict_proba()\u001b[0m\u001b[0;34m\u001b[0m\u001b[0;34m\u001b[0m\u001b[0;34m\u001b[0m\u001b[0m\n\u001b[0;32m-> 1273\u001b[0;31m         class_probs = super().predict(\n\u001b[0m\u001b[1;32m   1274\u001b[0m             \u001b[0mX\u001b[0m\u001b[0;34m=\u001b[0m\u001b[0mX\u001b[0m\u001b[0;34m,\u001b[0m\u001b[0;34m\u001b[0m\u001b[0;34m\u001b[0m\u001b[0m\n\u001b[1;32m   1275\u001b[0m             \u001b[0moutput_margin\u001b[0m\u001b[0;34m=\u001b[0m\u001b[0mself\u001b[0m\u001b[0;34m.\u001b[0m\u001b[0mobjective\u001b[0m \u001b[0;34m==\u001b[0m \u001b[0;34m\"multi:softmax\"\u001b[0m\u001b[0;34m,\u001b[0m\u001b[0;34m\u001b[0m\u001b[0;34m\u001b[0m\u001b[0m\n",
      "\u001b[0;32m~/anaconda3/lib/python3.8/site-packages/xgboost/sklearn.py\u001b[0m in \u001b[0;36mpredict\u001b[0;34m(self, X, output_margin, ntree_limit, validate_features, base_margin, iteration_range)\u001b[0m\n\u001b[1;32m    818\u001b[0m         \u001b[0;32mif\u001b[0m \u001b[0mself\u001b[0m\u001b[0;34m.\u001b[0m\u001b[0m_can_use_inplace_predict\u001b[0m\u001b[0;34m(\u001b[0m\u001b[0;34m)\u001b[0m\u001b[0;34m:\u001b[0m\u001b[0;34m\u001b[0m\u001b[0;34m\u001b[0m\u001b[0m\n\u001b[1;32m    819\u001b[0m             \u001b[0;32mtry\u001b[0m\u001b[0;34m:\u001b[0m\u001b[0;34m\u001b[0m\u001b[0;34m\u001b[0m\u001b[0m\n\u001b[0;32m--> 820\u001b[0;31m                 predts = self.get_booster().inplace_predict(\n\u001b[0m\u001b[1;32m    821\u001b[0m                     \u001b[0mdata\u001b[0m\u001b[0;34m=\u001b[0m\u001b[0mX\u001b[0m\u001b[0;34m,\u001b[0m\u001b[0;34m\u001b[0m\u001b[0;34m\u001b[0m\u001b[0m\n\u001b[1;32m    822\u001b[0m                     \u001b[0miteration_range\u001b[0m\u001b[0;34m=\u001b[0m\u001b[0miteration_range\u001b[0m\u001b[0;34m,\u001b[0m\u001b[0;34m\u001b[0m\u001b[0;34m\u001b[0m\u001b[0m\n",
      "\u001b[0;32m~/anaconda3/lib/python3.8/site-packages/xgboost/core.py\u001b[0m in \u001b[0;36minplace_predict\u001b[0;34m(self, data, iteration_range, predict_type, missing, validate_features, base_margin, strict_shape)\u001b[0m\n\u001b[1;32m   1848\u001b[0m             \u001b[0mdata\u001b[0m\u001b[0;34m,\u001b[0m \u001b[0m_\u001b[0m \u001b[0;34m=\u001b[0m \u001b[0m_ensure_np_dtype\u001b[0m\u001b[0;34m(\u001b[0m\u001b[0mdata\u001b[0m\u001b[0;34m,\u001b[0m \u001b[0mdata\u001b[0m\u001b[0;34m.\u001b[0m\u001b[0mdtype\u001b[0m\u001b[0;34m)\u001b[0m\u001b[0;34m\u001b[0m\u001b[0;34m\u001b[0m\u001b[0m\n\u001b[1;32m   1849\u001b[0m             _check_call(\n\u001b[0;32m-> 1850\u001b[0;31m                 _LIB.XGBoosterPredictFromDense(\n\u001b[0m\u001b[1;32m   1851\u001b[0m                     \u001b[0mself\u001b[0m\u001b[0;34m.\u001b[0m\u001b[0mhandle\u001b[0m\u001b[0;34m,\u001b[0m\u001b[0;34m\u001b[0m\u001b[0;34m\u001b[0m\u001b[0m\n\u001b[1;32m   1852\u001b[0m                     \u001b[0m_array_interface\u001b[0m\u001b[0;34m(\u001b[0m\u001b[0mdata\u001b[0m\u001b[0;34m)\u001b[0m\u001b[0;34m,\u001b[0m\u001b[0;34m\u001b[0m\u001b[0;34m\u001b[0m\u001b[0m\n",
      "\u001b[0;31mKeyboardInterrupt\u001b[0m: "
     ]
    }
   ],
   "source": [
    "def feat(row):\n",
    "    if(row['song_id'] in songs.index.values):\n",
    "        plat=songs.loc[row['song_id']]['platform_id']\n",
    "        return np.append(np.array(user_vector.loc[row['customer_id']].mul(label_vector.loc[plat],axis=0)),[user_means.loc[row['customer_id']],song_means.loc[plat]])\n",
    "    else:\n",
    "        return np.zeros(shape=(1,188))\n",
    "test=pd.read_csv('test.csv')\n",
    "test['score']=0\n",
    "pred_xbg_save=test['score'].copy()\n",
    "for i in range(len(test)):\n",
    "    row=test.iloc[i]\n",
    "    ddd=np.zeros(shape=(1,188))\n",
    "    ddd=feat(row)\n",
    "    if(ddd.max()==0 and ddd.min()==0):\n",
    "        pred_xbg_save.iloc[i]=3.8\n",
    "        continue\n",
    "    probs=model_xbg_save.predict_proba(ddd.reshape(1,-1))\n",
    "    \n",
    "    pred_xbg_save.iloc[i]=probs[:,0]*1+probs[:,1]*2+probs[:,2]*3+probs[:,3]*4+probs[:,4]*5\n",
    "    if(i%10000==0):\n",
    "        print(i)\n",
    "        #print(pred_xbg_save.iloc[i])"
   ]
  },
  {
   "cell_type": "code",
   "execution_count": null,
   "metadata": {},
   "outputs": [],
   "source": []
  },
  {
   "cell_type": "code",
   "execution_count": 52,
   "metadata": {},
   "outputs": [
    {
     "name": "stdout",
     "output_type": "stream",
     "text": [
      "                score\n",
      "test_row_id          \n",
      "0            3.596679\n",
      "1            3.770715\n",
      "2            4.189175\n",
      "3            3.879543\n",
      "4            4.294584\n",
      "...               ...\n",
      "670676       3.177567\n",
      "670677       4.410279\n",
      "670678       3.957462\n",
      "670679       4.405635\n",
      "670680       3.435347\n",
      "\n",
      "[670681 rows x 1 columns]\n",
      "670681\n"
     ]
    }
   ],
   "source": [
    "#preds_xbg_save=preds_xbg_save.rename({'0':'score'})\n",
    "preds_xbg_save=preds_xbg_save.reset_index()\n",
    "preds_xbg_save=preds_xbg_save.rename(columns={'index':'test_row_id'})\n",
    "preds_xbg_save=preds_xbg_save.set_index('test_row_id')\n",
    "\n",
    "print(preds_xbg_save)\n",
    "print(len(preds_xbg_save))\n",
    "preds_xbg_save.to_csv('submission_xgb_with_svd_05.csv')"
   ]
  },
  {
   "cell_type": "code",
   "execution_count": 313,
   "metadata": {},
   "outputs": [
    {
     "data": {
      "text/plain": [
       "0.1370657175349744"
      ]
     },
     "execution_count": 313,
     "metadata": {},
     "output_type": "execute_result"
    }
   ],
   "source": [
    "pred_4=pd.read_csv('submission_xgb_save_2.csv')\n",
    "pred_3=pd.read_csv('submission_xgb_save.csv')\n",
    "mean_squared_error(pred_3, pred_4)"
   ]
  },
  {
   "cell_type": "code",
   "execution_count": null,
   "metadata": {},
   "outputs": [],
   "source": [
    "pred = model.predict_proba(x_test)"
   ]
  },
  {
   "cell_type": "code",
   "execution_count": null,
   "metadata": {},
   "outputs": [],
   "source": [
    "from sklearn.metrics import mean_squared_error\n",
    "\n",
    "print(pred)\n",
    "preds=pred[:,0]*1+pred[:,1]*2+pred[:,2]*3+pred[:,3]*4+pred[:,4]*5\n",
    "print(preds)\n",
    "mean_squared_error(y_test, preds)\n"
   ]
  },
  {
   "cell_type": "code",
   "execution_count": null,
   "metadata": {},
   "outputs": [],
   "source": []
  },
  {
   "cell_type": "code",
   "execution_count": 171,
   "metadata": {},
   "outputs": [
    {
     "name": "stdout",
     "output_type": "stream",
     "text": [
      "3.3701084\n",
      "[2.503976  2.2544446 3.0513103 ... 2.6466246 2.6156125 2.8086348]\n",
      "500000    0.503976\n",
      "500001   -0.745555\n",
      "500002   -0.948690\n",
      "500003   -1.671515\n",
      "500004    0.103152\n",
      "            ...   \n",
      "709186   -0.641681\n",
      "709187   -1.659856\n",
      "709188   -1.353375\n",
      "709189   -1.384387\n",
      "709190   -0.191365\n",
      "Name: score, Length: 209191, dtype: float32\n",
      "2.2220313911688363\n"
     ]
    }
   ],
   "source": [
    "train=pd.read_csv('train.csv')\n",
    "#train['platform_id']=train['song_id']\n",
    "test=pd.read_csv('test.csv')\n",
    "songs=pd.read_csv('songs.csv')\n",
    "train=train.set_index('song_id')\n",
    "train=train.loc[list(songs['song_id'].unique())]\n",
    "train['platform_id']=songs.set_index('song_id')['platform_id']\n",
    "train=train.reset_index()\n",
    "test2=train.loc[500000:]\n",
    "train=train.loc[0:500000]\n",
    "print(pred.max())\n",
    "print(pred)\n",
    "pred2=test2['score']\n",
    "error=(pred-pred2)\n",
    "print(error)\n",
    "error=error.mul(error,axis=0)\n",
    "\n",
    "print(error.sum()/len(error))\n"
   ]
  },
  {
   "cell_type": "code",
   "execution_count": null,
   "metadata": {},
   "outputs": [],
   "source": [
    "train=pd.read_csv('train.csv')\n",
    "#train['platform_id']=train['song_id']\n",
    "test=pd.read_csv('test.csv')\n",
    "songs=pd.read_csv('songs.csv')\n",
    "train=train.set_index('song_id')\n",
    "train=train.loc[list(songs['song_id'].unique())]\n",
    "train['platform_id']=songs.set_index('song_id')['platform_id']\n",
    "train=train.reset_index()\n",
    "test2=train.loc[500000:]\n",
    "train=train.loc[0:500000]\n",
    "print(pred.max())\n",
    "print(pred)\n",
    "pred2=test2['score']\n",
    "error=(pred-pred2)\n",
    "print(error)\n",
    "error=error.mul(error,axis=0)\n",
    "\n",
    "print(error.sum()/len(error))\n"
   ]
  },
  {
   "cell_type": "code",
   "execution_count": 225,
   "metadata": {},
   "outputs": [
    {
     "name": "stdout",
     "output_type": "stream",
     "text": [
      "0\n",
      "10000\n",
      "20000\n",
      "30000\n",
      "40000\n",
      "50000\n",
      "60000\n",
      "70000\n",
      "80000\n",
      "90000\n",
      "100000\n",
      "110000\n",
      "120000\n",
      "130000\n",
      "140000\n",
      "150000\n",
      "160000\n",
      "170000\n",
      "180000\n",
      "190000\n",
      "200000\n",
      "210000\n",
      "220000\n",
      "230000\n",
      "240000\n",
      "250000\n",
      "260000\n",
      "270000\n",
      "280000\n",
      "290000\n",
      "300000\n",
      "310000\n",
      "320000\n",
      "330000\n",
      "340000\n",
      "350000\n",
      "360000\n",
      "370000\n",
      "380000\n",
      "390000\n",
      "400000\n",
      "410000\n",
      "420000\n",
      "430000\n",
      "440000\n",
      "450000\n",
      "460000\n",
      "470000\n",
      "480000\n",
      "490000\n",
      "500000\n",
      "510000\n",
      "520000\n",
      "530000\n",
      "540000\n",
      "550000\n",
      "560000\n",
      "570000\n",
      "580000\n",
      "590000\n",
      "600000\n",
      "610000\n",
      "620000\n",
      "630000\n",
      "640000\n",
      "650000\n",
      "660000\n",
      "670000\n"
     ]
    }
   ],
   "source": [
    "test=pd.read_csv('test.csv')\n",
    "test['score']=0\n",
    "pred=test['score'].copy()\n",
    "for i in range(len(test)):\n",
    "    row=test.iloc[i]\n",
    "    ddd=np.zeros(shape=(1,372))\n",
    "    ddd=feat(row)\n",
    "    if(ddd.max()==0):\n",
    "        pred.iloc[i]=3.5\n",
    "        continue\n",
    "    probs=model.predict_proba(ddd.reshape(1,-1))\n",
    "    \n",
    "    pred.iloc[i]=probs[:,0]*1+probs[:,1]*2+probs[:,2]*3+probs[:,3]*4+probs[:,4]*5\n",
    "    if(i%10000==0):\n",
    "        print(i)"
   ]
  },
  {
   "cell_type": "code",
   "execution_count": 286,
   "metadata": {},
   "outputs": [
    {
     "name": "stdout",
     "output_type": "stream",
     "text": [
      "0         3.539806\n",
      "1         3.884790\n",
      "2         3.491531\n",
      "3         3.311743\n",
      "4         4.248430\n",
      "            ...   \n",
      "670676    3.065740\n",
      "670677    4.605845\n",
      "670678    3.801322\n",
      "670679    4.500572\n",
      "670680    2.579509\n",
      "Name: score, Length: 670681, dtype: float64\n"
     ]
    },
    {
     "data": {
      "text/plain": [
       "(array([   595.,   1043.,   2639.,   8521.,  28878.,  91311., 160797.,\n",
       "        174483., 129350.,  73064.]),\n",
       " array([1.01910901, 1.41656444, 1.81401987, 2.2114753 , 2.60893073,\n",
       "        3.00638616, 3.40384159, 3.80129702, 4.19875245, 4.59620788,\n",
       "        4.99366331]),\n",
       " <BarContainer object of 10 artists>)"
      ]
     },
     "execution_count": 286,
     "metadata": {},
     "output_type": "execute_result"
    },
    {
     "data": {
      "image/png": "[encoded data removed]",
      "text/plain": [
       "<Figure size 432x288 with 1 Axes>"
      ]
     },
     "metadata": {
      "needs_background": "light"
     },
     "output_type": "display_data"
    }
   ],
   "source": [
    "pred=pred.rename('score')\n",
    "print(pred)\n",
    "len(pred)\n",
    "plt.hist(pred)\n",
    "#pred.to_csv('submission_xgbclassifier.csv')"
   ]
  },
  {
   "cell_type": "code",
   "execution_count": 153,
   "metadata": {},
   "outputs": [],
   "source": [
    "pred_log_reg=pd.read_csv('submission_logistic_reg.csv')\n",
    "print()\n"
   ]
  },
  {
   "cell_type": "code",
   "execution_count": 228,
   "metadata": {},
   "outputs": [
    {
     "name": "stdout",
     "output_type": "stream",
     "text": [
      "0         3.539806\n",
      "1         3.884790\n",
      "2         3.491531\n",
      "3         3.311743\n",
      "4         4.248430\n",
      "            ...   \n",
      "670676    3.065740\n",
      "670677    4.605845\n",
      "670678    3.801322\n",
      "670679    4.500572\n",
      "670680    2.579509\n",
      "Name: score, Length: 670681, dtype: float64\n"
     ]
    },
    {
     "data": {
      "text/plain": [
       "670681"
      ]
     },
     "execution_count": 228,
     "metadata": {},
     "output_type": "execute_result"
    }
   ],
   "source": [
    "pred=pred.rename('score')\n",
    "print(pred)\n",
    "len(pred)\n",
    "\n"
   ]
  },
  {
   "cell_type": "code",
   "execution_count": 226,
   "metadata": {},
   "outputs": [],
   "source": [
    "xg_reg = xgb.XGBRegressor()"
   ]
  },
  {
   "cell_type": "code",
   "execution_count": 227,
   "metadata": {},
   "outputs": [
    {
     "data": {
      "text/plain": [
       "XGBRegressor(base_score=0.5, booster='gbtree', colsample_bylevel=1,\n",
       "             colsample_bynode=1, colsample_bytree=1, gamma=0, gpu_id=-1,\n",
       "             importance_type='gain', interaction_constraints='',\n",
       "             learning_rate=0.300000012, max_delta_step=0, max_depth=6,\n",
       "             min_child_weight=1, missing=nan, monotone_constraints='()',\n",
       "             n_estimators=100, n_jobs=8, num_parallel_tree=1, random_state=0,\n",
       "             reg_alpha=0, reg_lambda=1, scale_pos_weight=1, subsample=1,\n",
       "             tree_method='exact', validate_parameters=1, verbosity=None)"
      ]
     },
     "execution_count": 227,
     "metadata": {},
     "output_type": "execute_result"
    }
   ],
   "source": [
    "xg_reg.fit(x_train,y_train)"
   ]
  },
  {
   "cell_type": "code",
   "execution_count": 233,
   "metadata": {},
   "outputs": [],
   "source": [
    "pred_xg_reg = xg_reg.predict(x_test)\n",
    "pred_xg_reg[pred_xg_reg<1]=1\n",
    "pred_xg_reg[pred_xg_reg>5]=5"
   ]
  },
  {
   "cell_type": "code",
   "execution_count": 234,
   "metadata": {},
   "outputs": [
    {
     "name": "stdout",
     "output_type": "stream",
     "text": [
      "5.0\n",
      "1.0\n"
     ]
    },
    {
     "data": {
      "text/plain": [
       "0.7860465942281718"
      ]
     },
     "execution_count": 234,
     "metadata": {},
     "output_type": "execute_result"
    }
   ],
   "source": [
    "print(pred_xg_reg.max())\n",
    "print(pred_xg_reg.min())\n",
    "mean_squared_error(y_test, pred_xg_reg)"
   ]
  },
  {
   "cell_type": "code",
   "execution_count": 82,
   "metadata": {
    "scrolled": true
   },
   "outputs": [
    {
     "name": "stdout",
     "output_type": "stream",
     "text": [
      "0         3.432601\n",
      "1         3.377269\n",
      "2         3.574456\n",
      "3         3.344376\n",
      "4         3.542889\n",
      "            ...   \n",
      "670676    3.168944\n",
      "670677    3.363195\n",
      "670678    3.555832\n",
      "670679    3.856624\n",
      "670680    3.170150\n",
      "Name: score, Length: 670681, dtype: float64\n"
     ]
    },
    {
     "data": {
      "text/plain": [
       "670681"
      ]
     },
     "execution_count": 82,
     "metadata": {},
     "output_type": "execute_result"
    }
   ],
   "source": []
  },
  {
   "cell_type": "code",
   "execution_count": 83,
   "metadata": {},
   "outputs": [],
   "source": []
  },
  {
   "cell_type": "code",
   "execution_count": null,
   "metadata": {},
   "outputs": [],
   "source": []
  }
 ],
 "metadata": {
  "kernelspec": {
   "display_name": "Python 3",
   "language": "python",
   "name": "python3"
  },
  "language_info": {
   "codemirror_mode": {
    "name": "ipython",
    "version": 3
   },
   "file_extension": ".py",
   "mimetype": "text/x-python",
   "name": "python",
   "nbconvert_exporter": "python",
   "pygments_lexer": "ipython3",
   "version": "3.8.5"
  }
 },
 "nbformat": 4,
 "nbformat_minor": 2
}
